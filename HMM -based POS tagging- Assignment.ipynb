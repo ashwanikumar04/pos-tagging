{
 "cells": [
  {
   "cell_type": "markdown",
   "metadata": {},
   "source": [
    "## POS tagging using modified Viterbi"
   ]
  },
  {
   "cell_type": "markdown",
   "metadata": {},
   "source": [
    "### Data Preparation"
   ]
  },
  {
   "cell_type": "code",
   "execution_count": 58,
   "metadata": {},
   "outputs": [
    {
     "name": "stdout",
     "output_type": "stream",
     "text": [
      "The autoreload extension is already loaded. To reload it, use:\n",
      "  %reload_ext autoreload\n"
     ]
    },
    {
     "name": "stderr",
     "output_type": "stream",
     "text": [
      "[nltk_data] Downloading package universal_tagset to\n",
      "[nltk_data]     /Users/akumar/nltk_data...\n",
      "[nltk_data]   Package universal_tagset is already up-to-date!\n"
     ]
    }
   ],
   "source": [
    "#Importing libraries\n",
    "import nltk, re, pprint\n",
    "import numpy as np\n",
    "import pandas as pd\n",
    "import requests\n",
    "import matplotlib.pyplot as plt\n",
    "import seaborn as sns\n",
    "import pprint, time\n",
    "import random\n",
    "from sklearn.model_selection import train_test_split\n",
    "from nltk.tokenize import word_tokenize\n",
    "nltk.download('universal_tagset')\n",
    "\n",
    "\n",
    "import warnings\n",
    "warnings.filterwarnings('ignore')\n",
    "# setting display format so that large values are shown properly\n",
    "pd.set_option('display.float_format', lambda x: '%.4f' % x)\n",
    "pd.set_option('display.max_rows', None)\n",
    "pd.set_option('display.max_columns', None)\n",
    "\n",
    "\n",
    "\n",
    "sns.set_style(style='dark')\n",
    "sns.set_context(\"notebook\")\n",
    "\n",
    "%config InlineBackend.figure_format = 'retina'\n",
    "%matplotlib inline\n",
    "\n",
    "%load_ext autoreload\n",
    "%autoreload 2"
   ]
  },
  {
   "cell_type": "code",
   "execution_count": 59,
   "metadata": {},
   "outputs": [],
   "source": [
    "# reading the Treebank tagged sentences\n",
    "nltk_data = list(nltk.corpus.treebank.tagged_sents(tagset='universal'))"
   ]
  },
  {
   "cell_type": "code",
   "execution_count": 60,
   "metadata": {},
   "outputs": [
    {
     "name": "stdout",
     "output_type": "stream",
     "text": [
      "[[('Pierre', 'NOUN'), ('Vinken', 'NOUN'), (',', '.'), ('61', 'NUM'), ('years', 'NOUN'), ('old', 'ADJ'), (',', '.'), ('will', 'VERB'), ('join', 'VERB'), ('the', 'DET'), ('board', 'NOUN'), ('as', 'ADP'), ('a', 'DET'), ('nonexecutive', 'ADJ'), ('director', 'NOUN'), ('Nov.', 'NOUN'), ('29', 'NUM'), ('.', '.')], [('Mr.', 'NOUN'), ('Vinken', 'NOUN'), ('is', 'VERB'), ('chairman', 'NOUN'), ('of', 'ADP'), ('Elsevier', 'NOUN'), ('N.V.', 'NOUN'), (',', '.'), ('the', 'DET'), ('Dutch', 'NOUN'), ('publishing', 'VERB'), ('group', 'NOUN'), ('.', '.')], [('Rudolph', 'NOUN'), ('Agnew', 'NOUN'), (',', '.'), ('55', 'NUM'), ('years', 'NOUN'), ('old', 'ADJ'), ('and', 'CONJ'), ('former', 'ADJ'), ('chairman', 'NOUN'), ('of', 'ADP'), ('Consolidated', 'NOUN'), ('Gold', 'NOUN'), ('Fields', 'NOUN'), ('PLC', 'NOUN'), (',', '.'), ('was', 'VERB'), ('named', 'VERB'), ('*-1', 'X'), ('a', 'DET'), ('nonexecutive', 'ADJ'), ('director', 'NOUN'), ('of', 'ADP'), ('this', 'DET'), ('British', 'ADJ'), ('industrial', 'ADJ'), ('conglomerate', 'NOUN'), ('.', '.')], [('A', 'DET'), ('form', 'NOUN'), ('of', 'ADP'), ('asbestos', 'NOUN'), ('once', 'ADV'), ('used', 'VERB'), ('*', 'X'), ('*', 'X'), ('to', 'PRT'), ('make', 'VERB'), ('Kent', 'NOUN'), ('cigarette', 'NOUN'), ('filters', 'NOUN'), ('has', 'VERB'), ('caused', 'VERB'), ('a', 'DET'), ('high', 'ADJ'), ('percentage', 'NOUN'), ('of', 'ADP'), ('cancer', 'NOUN'), ('deaths', 'NOUN'), ('among', 'ADP'), ('a', 'DET'), ('group', 'NOUN'), ('of', 'ADP'), ('workers', 'NOUN'), ('exposed', 'VERB'), ('*', 'X'), ('to', 'PRT'), ('it', 'PRON'), ('more', 'ADV'), ('than', 'ADP'), ('30', 'NUM'), ('years', 'NOUN'), ('ago', 'ADP'), (',', '.'), ('researchers', 'NOUN'), ('reported', 'VERB'), ('0', 'X'), ('*T*-1', 'X'), ('.', '.')], [('The', 'DET'), ('asbestos', 'NOUN'), ('fiber', 'NOUN'), (',', '.'), ('crocidolite', 'NOUN'), (',', '.'), ('is', 'VERB'), ('unusually', 'ADV'), ('resilient', 'ADJ'), ('once', 'ADP'), ('it', 'PRON'), ('enters', 'VERB'), ('the', 'DET'), ('lungs', 'NOUN'), (',', '.'), ('with', 'ADP'), ('even', 'ADV'), ('brief', 'ADJ'), ('exposures', 'NOUN'), ('to', 'PRT'), ('it', 'PRON'), ('causing', 'VERB'), ('symptoms', 'NOUN'), ('that', 'DET'), ('*T*-1', 'X'), ('show', 'VERB'), ('up', 'PRT'), ('decades', 'NOUN'), ('later', 'ADJ'), (',', '.'), ('researchers', 'NOUN'), ('said', 'VERB'), ('0', 'X'), ('*T*-2', 'X'), ('.', '.')], [('Lorillard', 'NOUN'), ('Inc.', 'NOUN'), (',', '.'), ('the', 'DET'), ('unit', 'NOUN'), ('of', 'ADP'), ('New', 'ADJ'), ('York-based', 'ADJ'), ('Loews', 'NOUN'), ('Corp.', 'NOUN'), ('that', 'DET'), ('*T*-2', 'X'), ('makes', 'VERB'), ('Kent', 'NOUN'), ('cigarettes', 'NOUN'), (',', '.'), ('stopped', 'VERB'), ('using', 'VERB'), ('crocidolite', 'NOUN'), ('in', 'ADP'), ('its', 'PRON'), ('Micronite', 'NOUN'), ('cigarette', 'NOUN'), ('filters', 'NOUN'), ('in', 'ADP'), ('1956', 'NUM'), ('.', '.')], [('Although', 'ADP'), ('preliminary', 'ADJ'), ('findings', 'NOUN'), ('were', 'VERB'), ('reported', 'VERB'), ('*-2', 'X'), ('more', 'ADV'), ('than', 'ADP'), ('a', 'DET'), ('year', 'NOUN'), ('ago', 'ADP'), (',', '.'), ('the', 'DET'), ('latest', 'ADJ'), ('results', 'NOUN'), ('appear', 'VERB'), ('in', 'ADP'), ('today', 'NOUN'), (\"'s\", 'PRT'), ('New', 'NOUN'), ('England', 'NOUN'), ('Journal', 'NOUN'), ('of', 'ADP'), ('Medicine', 'NOUN'), (',', '.'), ('a', 'DET'), ('forum', 'NOUN'), ('likely', 'ADJ'), ('*', 'X'), ('to', 'PRT'), ('bring', 'VERB'), ('new', 'ADJ'), ('attention', 'NOUN'), ('to', 'PRT'), ('the', 'DET'), ('problem', 'NOUN'), ('.', '.')], [('A', 'DET'), ('Lorillard', 'NOUN'), ('spokewoman', 'NOUN'), ('said', 'VERB'), (',', '.'), ('``', '.'), ('This', 'DET'), ('is', 'VERB'), ('an', 'DET'), ('old', 'ADJ'), ('story', 'NOUN'), ('.', '.')], [('We', 'PRON'), (\"'re\", 'VERB'), ('talking', 'VERB'), ('about', 'ADP'), ('years', 'NOUN'), ('ago', 'ADP'), ('before', 'ADP'), ('anyone', 'NOUN'), ('heard', 'VERB'), ('of', 'ADP'), ('asbestos', 'NOUN'), ('having', 'VERB'), ('any', 'DET'), ('questionable', 'ADJ'), ('properties', 'NOUN'), ('.', '.')], [('There', 'DET'), ('is', 'VERB'), ('no', 'DET'), ('asbestos', 'NOUN'), ('in', 'ADP'), ('our', 'PRON'), ('products', 'NOUN'), ('now', 'ADV'), ('.', '.'), (\"''\", '.')], [('Neither', 'DET'), ('Lorillard', 'NOUN'), ('nor', 'CONJ'), ('the', 'DET'), ('researchers', 'NOUN'), ('who', 'PRON'), ('*T*-3', 'X'), ('studied', 'VERB'), ('the', 'DET'), ('workers', 'NOUN'), ('were', 'VERB'), ('aware', 'ADJ'), ('of', 'ADP'), ('any', 'DET'), ('research', 'NOUN'), ('on', 'ADP'), ('smokers', 'NOUN'), ('of', 'ADP'), ('the', 'DET'), ('Kent', 'NOUN'), ('cigarettes', 'NOUN'), ('.', '.')], [('``', '.'), ('We', 'PRON'), ('have', 'VERB'), ('no', 'DET'), ('useful', 'ADJ'), ('information', 'NOUN'), ('on', 'ADP'), ('whether', 'ADP'), ('users', 'NOUN'), ('are', 'VERB'), ('at', 'ADP'), ('risk', 'NOUN'), (',', '.'), (\"''\", '.'), ('said', 'VERB'), ('*T*-1', 'X'), ('James', 'NOUN'), ('A.', 'NOUN'), ('Talcott', 'NOUN'), ('of', 'ADP'), ('Boston', 'NOUN'), (\"'s\", 'PRT'), ('Dana-Farber', 'NOUN'), ('Cancer', 'NOUN'), ('Institute', 'NOUN'), ('.', '.')], [('Dr.', 'NOUN'), ('Talcott', 'NOUN'), ('led', 'VERB'), ('a', 'DET'), ('team', 'NOUN'), ('of', 'ADP'), ('researchers', 'NOUN'), ('from', 'ADP'), ('the', 'DET'), ('National', 'NOUN'), ('Cancer', 'NOUN'), ('Institute', 'NOUN'), ('and', 'CONJ'), ('the', 'DET'), ('medical', 'ADJ'), ('schools', 'NOUN'), ('of', 'ADP'), ('Harvard', 'NOUN'), ('University', 'NOUN'), ('and', 'CONJ'), ('Boston', 'NOUN'), ('University', 'NOUN'), ('.', '.')], [('The', 'DET'), ('Lorillard', 'NOUN'), ('spokeswoman', 'NOUN'), ('said', 'VERB'), ('0', 'X'), ('asbestos', 'NOUN'), ('was', 'VERB'), ('used', 'VERB'), ('*-1', 'X'), ('in', 'ADP'), ('``', '.'), ('very', 'ADV'), ('modest', 'ADJ'), ('amounts', 'NOUN'), (\"''\", '.'), ('in', 'ADP'), ('*', 'X'), ('making', 'VERB'), ('paper', 'NOUN'), ('for', 'ADP'), ('the', 'DET'), ('filters', 'NOUN'), ('in', 'ADP'), ('the', 'DET'), ('early', 'ADJ'), ('1950s', 'NUM'), ('and', 'CONJ'), ('replaced', 'VERB'), ('*-1', 'X'), ('with', 'ADP'), ('a', 'DET'), ('different', 'ADJ'), ('type', 'NOUN'), ('of', 'ADP'), ('filter', 'NOUN'), ('in', 'ADP'), ('1956', 'NUM'), ('.', '.')], [('From', 'ADP'), ('1953', 'NUM'), ('to', 'PRT'), ('1955', 'NUM'), (',', '.'), ('9.8', 'NUM'), ('billion', 'NUM'), ('Kent', 'NOUN'), ('cigarettes', 'NOUN'), ('with', 'ADP'), ('the', 'DET'), ('filters', 'NOUN'), ('were', 'VERB'), ('sold', 'VERB'), ('*-3', 'X'), (',', '.'), ('the', 'DET'), ('company', 'NOUN'), ('said', 'VERB'), ('0', 'X'), ('*T*-1', 'X'), ('.', '.')], [('Among', 'ADP'), ('33', 'NUM'), ('men', 'NOUN'), ('who', 'PRON'), ('*T*-4', 'X'), ('worked', 'VERB'), ('closely', 'ADV'), ('with', 'ADP'), ('the', 'DET'), ('substance', 'NOUN'), (',', '.'), ('28', 'NUM'), ('*ICH*-1', 'X'), ('have', 'VERB'), ('died', 'VERB'), ('--', '.'), ('more', 'ADJ'), ('than', 'ADP'), ('three', 'NUM'), ('times', 'NOUN'), ('the', 'DET'), ('expected', 'VERB'), ('number', 'NOUN'), ('.', '.')], [('Four', 'NUM'), ('of', 'ADP'), ('the', 'DET'), ('five', 'NUM'), ('surviving', 'VERB'), ('workers', 'NOUN'), ('have', 'VERB'), ('asbestos-related', 'ADJ'), ('diseases', 'NOUN'), (',', '.'), ('including', 'VERB'), ('three', 'NUM'), ('with', 'ADP'), ('recently', 'ADV'), ('diagnosed', 'VERB'), ('cancer', 'NOUN'), ('.', '.')], [('The', 'DET'), ('total', 'NOUN'), ('of', 'ADP'), ('18', 'NUM'), ('deaths', 'NOUN'), ('from', 'ADP'), ('malignant', 'ADJ'), ('mesothelioma', 'NOUN'), (',', '.'), ('lung', 'NOUN'), ('cancer', 'NOUN'), ('and', 'CONJ'), ('asbestosis', 'NOUN'), ('was', 'VERB'), ('far', 'ADV'), ('higher', 'ADJ'), ('than', 'ADP'), ('*', 'X'), ('expected', 'VERB'), ('*?*', 'X'), (',', '.'), ('the', 'DET'), ('researchers', 'NOUN'), ('said', 'VERB'), ('0', 'X'), ('*T*-1', 'X'), ('.', '.')], [('``', '.'), ('The', 'DET'), ('morbidity', 'NOUN'), ('rate', 'NOUN'), ('is', 'VERB'), ('a', 'DET'), ('striking', 'ADJ'), ('finding', 'NOUN'), ('among', 'ADP'), ('those', 'DET'), ('of', 'ADP'), ('us', 'PRON'), ('who', 'PRON'), ('*T*-5', 'X'), ('study', 'VERB'), ('asbestos-related', 'ADJ'), ('diseases', 'NOUN'), (',', '.'), (\"''\", '.'), ('said', 'VERB'), ('*T*-1', 'X'), ('Dr.', 'NOUN'), ('Talcott', 'NOUN'), ('.', '.')], [('The', 'DET'), ('percentage', 'NOUN'), ('of', 'ADP'), ('lung', 'NOUN'), ('cancer', 'NOUN'), ('deaths', 'NOUN'), ('among', 'ADP'), ('the', 'DET'), ('workers', 'NOUN'), ('at', 'ADP'), ('the', 'DET'), ('West', 'NOUN'), ('Groton', 'NOUN'), (',', '.'), ('Mass.', 'NOUN'), (',', '.'), ('paper', 'NOUN'), ('factory', 'NOUN'), ('appears', 'VERB'), ('*-1', 'X'), ('to', 'PRT'), ('be', 'VERB'), ('the', 'DET'), ('highest', 'ADJ'), ('for', 'ADP'), ('any', 'DET'), ('asbestos', 'NOUN'), ('workers', 'NOUN'), ('studied', 'VERB'), ('*', 'X'), ('in', 'ADP'), ('Western', 'ADJ'), ('industrialized', 'VERB'), ('countries', 'NOUN'), (',', '.'), ('he', 'PRON'), ('said', 'VERB'), ('0', 'X'), ('*T*-2', 'X'), ('.', '.')], [('The', 'DET'), ('plant', 'NOUN'), (',', '.'), ('which', 'DET'), ('*T*-1', 'X'), ('is', 'VERB'), ('owned', 'VERB'), ('*-4', 'X'), ('by', 'ADP'), ('Hollingsworth', 'NOUN'), ('&', 'CONJ'), ('Vose', 'NOUN'), ('Co.', 'NOUN'), (',', '.'), ('was', 'VERB'), ('under', 'ADP'), ('contract', 'NOUN'), ('*ICH*-2', 'X'), ('with', 'ADP'), ('Lorillard', 'NOUN'), ('*', 'X'), ('to', 'PRT'), ('make', 'VERB'), ('the', 'DET'), ('cigarette', 'NOUN'), ('filters', 'NOUN'), ('.', '.')], [('The', 'DET'), ('finding', 'NOUN'), ('probably', 'ADV'), ('will', 'VERB'), ('support', 'VERB'), ('those', 'DET'), ('who', 'PRON'), ('*T*-6', 'X'), ('argue', 'VERB'), ('that', 'ADP'), ('the', 'DET'), ('U.S.', 'NOUN'), ('should', 'VERB'), ('regulate', 'VERB'), ('the', 'DET'), ('class', 'NOUN'), ('of', 'ADP'), ('asbestos', 'NOUN'), ('including', 'VERB'), ('crocidolite', 'NOUN'), ('more', 'ADV'), ('stringently', 'ADV'), ('than', 'ADP'), ('the', 'DET'), ('common', 'ADJ'), ('kind', 'NOUN'), ('of', 'ADP'), ('asbestos', 'NOUN'), (',', '.'), ('chrysotile', 'NOUN'), (',', '.'), ('found', 'VERB'), ('*', 'X'), ('in', 'ADP'), ('most', 'ADJ'), ('schools', 'NOUN'), ('and', 'CONJ'), ('other', 'ADJ'), ('buildings', 'NOUN'), (',', '.'), ('Dr.', 'NOUN'), ('Talcott', 'NOUN'), ('said', 'VERB'), ('0', 'X'), ('*T*-1', 'X'), ('.', '.')], [('The', 'DET'), ('U.S.', 'NOUN'), ('is', 'VERB'), ('one', 'NUM'), ('of', 'ADP'), ('the', 'DET'), ('few', 'ADJ'), ('industrialized', 'VERB'), ('nations', 'NOUN'), ('that', 'DET'), ('*T*-7', 'X'), ('does', 'VERB'), (\"n't\", 'ADV'), ('have', 'VERB'), ('a', 'DET'), ('higher', 'ADJ'), ('standard', 'NOUN'), ('of', 'ADP'), ('regulation', 'NOUN'), ('for', 'ADP'), ('the', 'DET'), ('smooth', 'ADJ'), (',', '.'), ('needle-like', 'ADJ'), ('fibers', 'NOUN'), ('such', 'ADJ'), ('as', 'ADP'), ('crocidolite', 'NOUN'), ('that', 'DET'), ('*T*-1', 'X'), ('are', 'VERB'), ('classified', 'VERB'), ('*-5', 'X'), ('as', 'ADP'), ('amphobiles', 'NOUN'), (',', '.'), ('according', 'VERB'), ('to', 'PRT'), ('Brooke', 'NOUN'), ('T.', 'NOUN'), ('Mossman', 'NOUN'), (',', '.'), ('a', 'DET'), ('professor', 'NOUN'), ('of', 'ADP'), ('pathlogy', 'NOUN'), ('at', 'ADP'), ('the', 'DET'), ('University', 'NOUN'), ('of', 'ADP'), ('Vermont', 'NOUN'), ('College', 'NOUN'), ('of', 'ADP'), ('Medicine', 'NOUN'), ('.', '.')], [('More', 'ADV'), ('common', 'ADJ'), ('chrysotile', 'NOUN'), ('fibers', 'NOUN'), ('are', 'VERB'), ('curly', 'ADJ'), ('and', 'CONJ'), ('are', 'VERB'), ('more', 'ADV'), ('easily', 'ADV'), ('rejected', 'VERB'), ('*-1', 'X'), ('by', 'ADP'), ('the', 'DET'), ('body', 'NOUN'), (',', '.'), ('Dr.', 'NOUN'), ('Mossman', 'NOUN'), ('explained', 'VERB'), ('0', 'X'), ('*T*-2', 'X'), ('.', '.')], [('In', 'ADP'), ('July', 'NOUN'), (',', '.'), ('the', 'DET'), ('Environmental', 'NOUN'), ('Protection', 'NOUN'), ('Agency', 'NOUN'), ('imposed', 'VERB'), ('a', 'DET'), ('gradual', 'ADJ'), ('ban', 'NOUN'), ('on', 'ADP'), ('virtually', 'ADV'), ('all', 'DET'), ('uses', 'NOUN'), ('of', 'ADP'), ('asbestos', 'NOUN'), ('.', '.')], [('By', 'ADP'), ('1997', 'NUM'), (',', '.'), ('almost', 'ADV'), ('all', 'DET'), ('remaining', 'VERB'), ('uses', 'NOUN'), ('of', 'ADP'), ('cancer-causing', 'ADJ'), ('asbestos', 'NOUN'), ('will', 'VERB'), ('be', 'VERB'), ('outlawed', 'VERB'), ('*-6', 'X'), ('.', '.')], [('About', 'ADP'), ('160', 'NUM'), ('workers', 'NOUN'), ('at', 'ADP'), ('a', 'DET'), ('factory', 'NOUN'), ('that', 'DET'), ('*T*-8', 'X'), ('made', 'VERB'), ('paper', 'NOUN'), ('for', 'ADP'), ('the', 'DET'), ('Kent', 'NOUN'), ('filters', 'NOUN'), ('were', 'VERB'), ('exposed', 'VERB'), ('*-7', 'X'), ('to', 'PRT'), ('asbestos', 'NOUN'), ('in', 'ADP'), ('the', 'DET'), ('1950s', 'NUM'), ('.', '.')], [('Areas', 'NOUN'), ('of', 'ADP'), ('the', 'DET'), ('factory', 'NOUN'), ('*ICH*-2', 'X'), ('were', 'VERB'), ('particularly', 'ADV'), ('dusty', 'ADJ'), ('where', 'ADV'), ('the', 'DET'), ('crocidolite', 'NOUN'), ('was', 'VERB'), ('used', 'VERB'), ('*-8', 'X'), ('*T*-1', 'X'), ('.', '.')], [('Workers', 'NOUN'), ('dumped', 'VERB'), ('large', 'ADJ'), ('burlap', 'NOUN'), ('sacks', 'NOUN'), ('of', 'ADP'), ('the', 'DET'), ('imported', 'VERB'), ('material', 'NOUN'), ('into', 'ADP'), ('a', 'DET'), ('huge', 'ADJ'), ('bin', 'NOUN'), (',', '.'), ('poured', 'VERB'), ('in', 'PRT'), ('cotton', 'NOUN'), ('and', 'CONJ'), ('acetate', 'NOUN'), ('fibers', 'NOUN'), ('and', 'CONJ'), ('mechanically', 'ADV'), ('mixed', 'VERB'), ('the', 'DET'), ('dry', 'ADJ'), ('fibers', 'NOUN'), ('in', 'ADP'), ('a', 'DET'), ('process', 'NOUN'), ('used', 'VERB'), ('*', 'X'), ('*', 'X'), ('to', 'PRT'), ('make', 'VERB'), ('filters', 'NOUN'), ('.', '.')], [('Workers', 'NOUN'), ('described', 'VERB'), ('``', '.'), ('clouds', 'NOUN'), ('of', 'ADP'), ('blue', 'ADJ'), ('dust', 'NOUN'), (\"''\", '.'), ('that', 'DET'), ('*T*-1', 'X'), ('hung', 'VERB'), ('over', 'ADP'), ('parts', 'NOUN'), ('of', 'ADP'), ('the', 'DET'), ('factory', 'NOUN'), (',', '.'), ('even', 'ADV'), ('though', 'ADP'), ('exhaust', 'NOUN'), ('fans', 'NOUN'), ('ventilated', 'VERB'), ('the', 'DET'), ('area', 'NOUN'), ('.', '.')], [('``', '.'), ('There', 'DET'), (\"'s\", 'VERB'), ('no', 'DET'), ('question', 'NOUN'), ('that', 'ADP'), ('some', 'DET'), ('of', 'ADP'), ('those', 'DET'), ('workers', 'NOUN'), ('and', 'CONJ'), ('managers', 'NOUN'), ('contracted', 'VERB'), ('asbestos-related', 'ADJ'), ('diseases', 'NOUN'), (',', '.'), (\"''\", '.'), ('said', 'VERB'), ('*T*-1', 'X'), ('Darrell', 'NOUN'), ('Phillips', 'NOUN'), (',', '.'), ('vice', 'NOUN'), ('president', 'NOUN'), ('of', 'ADP'), ('human', 'ADJ'), ('resources', 'NOUN'), ('for', 'ADP'), ('Hollingsworth', 'NOUN'), ('&', 'CONJ'), ('Vose', 'NOUN'), ('.', '.')], [('``', '.'), ('But', 'CONJ'), ('you', 'PRON'), ('have', 'VERB'), ('*-1', 'X'), ('to', 'PRT'), ('recognize', 'VERB'), ('that', 'ADP'), ('these', 'DET'), ('events', 'NOUN'), ('took', 'VERB'), ('place', 'NOUN'), ('35', 'NUM'), ('years', 'NOUN'), ('ago', 'ADP'), ('.', '.')], [('It', 'PRON'), ('has', 'VERB'), ('no', 'DET'), ('bearing', 'NOUN'), ('on', 'ADP'), ('our', 'PRON'), ('work', 'NOUN'), ('force', 'NOUN'), ('today', 'NOUN'), ('.', '.')], [('Yields', 'NOUN'), ('on', 'ADP'), ('money-market', 'ADJ'), ('mutual', 'ADJ'), ('funds', 'NOUN'), ('continued', 'VERB'), ('*-1', 'X'), ('to', 'PRT'), ('slide', 'VERB'), (',', '.'), ('amid', 'ADP'), ('signs', 'NOUN'), ('that', 'ADP'), ('portfolio', 'NOUN'), ('managers', 'NOUN'), ('expect', 'VERB'), ('further', 'ADJ'), ('declines', 'NOUN'), ('in', 'ADP'), ('interest', 'NOUN'), ('rates', 'NOUN'), ('.', '.')], [('The', 'DET'), ('average', 'ADJ'), ('seven-day', 'ADJ'), ('compound', 'NOUN'), ('yield', 'NOUN'), ('of', 'ADP'), ('the', 'DET'), ('400', 'NUM'), ('taxable', 'ADJ'), ('funds', 'NOUN'), ('tracked', 'VERB'), ('*', 'X'), ('by', 'ADP'), ('IBC', 'NOUN'), (\"'s\", 'PRT'), ('Money', 'NOUN'), ('Fund', 'NOUN'), ('Report', 'NOUN'), ('eased', 'VERB'), ('a', 'DET'), ('fraction', 'NOUN'), ('of', 'ADP'), ('a', 'DET'), ('percentage', 'NOUN'), ('point', 'NOUN'), ('to', 'PRT'), ('8.45', 'NUM'), ('%', 'NOUN'), ('from', 'ADP'), ('8.47', 'NUM'), ('%', 'NOUN'), ('for', 'ADP'), ('the', 'DET'), ('week', 'NOUN'), ('ended', 'VERB'), ('Tuesday', 'NOUN'), ('.', '.')], [('Compound', 'NOUN'), ('yields', 'NOUN'), ('assume', 'VERB'), ('reinvestment', 'NOUN'), ('of', 'ADP'), ('dividends', 'NOUN'), ('and', 'CONJ'), ('that', 'ADP'), ('the', 'DET'), ('current', 'ADJ'), ('yield', 'NOUN'), ('continues', 'VERB'), ('for', 'ADP'), ('a', 'DET'), ('year', 'NOUN'), ('.', '.')], [('Average', 'ADJ'), ('maturity', 'NOUN'), ('of', 'ADP'), ('the', 'DET'), ('funds', 'NOUN'), (\"'\", 'PRT'), ('investments', 'NOUN'), ('lengthened', 'VERB'), ('by', 'ADP'), ('a', 'DET'), ('day', 'NOUN'), ('to', 'PRT'), ('41', 'NUM'), ('days', 'NOUN'), (',', '.'), ('the', 'DET'), ('longest', 'ADJ'), ('since', 'ADP'), ('early', 'ADJ'), ('August', 'NOUN'), (',', '.'), ('according', 'VERB'), ('to', 'PRT'), ('Donoghue', 'NOUN'), (\"'s\", 'PRT'), ('.', '.')], [('Longer', 'ADJ'), ('maturities', 'NOUN'), ('are', 'VERB'), ('thought', 'VERB'), ('*-1', 'X'), ('to', 'PRT'), ('indicate', 'VERB'), ('declining', 'VERB'), ('interest', 'NOUN'), ('rates', 'NOUN'), ('because', 'ADP'), ('they', 'PRON'), ('permit', 'VERB'), ('portfolio', 'NOUN'), ('managers', 'NOUN'), ('to', 'PRT'), ('retain', 'VERB'), ('relatively', 'ADV'), ('higher', 'ADJ'), ('rates', 'NOUN'), ('for', 'ADP'), ('a', 'DET'), ('longer', 'ADJ'), ('period', 'NOUN'), ('.', '.')], [('Shorter', 'ADJ'), ('maturities', 'NOUN'), ('are', 'VERB'), ('considered', 'VERB'), ('*-9', 'X'), ('a', 'DET'), ('sign', 'NOUN'), ('of', 'ADP'), ('rising', 'VERB'), ('rates', 'NOUN'), ('because', 'ADP'), ('portfolio', 'NOUN'), ('managers', 'NOUN'), ('can', 'VERB'), ('capture', 'VERB'), ('higher', 'ADJ'), ('rates', 'NOUN'), ('sooner', 'ADV'), ('.', '.')], [('The', 'DET'), ('average', 'ADJ'), ('maturity', 'NOUN'), ('for', 'ADP'), ('funds', 'NOUN'), ('open', 'ADJ'), ('only', 'ADV'), ('to', 'PRT'), ('institutions', 'NOUN'), (',', '.'), ('considered', 'VERB'), ('by', 'ADP'), ('some', 'DET'), ('*', 'X'), ('to', 'PRT'), ('be', 'VERB'), ('a', 'DET'), ('stronger', 'ADJ'), ('indicator', 'NOUN'), ('because', 'ADP'), ('those', 'DET'), ('managers', 'NOUN'), ('watch', 'VERB'), ('the', 'DET'), ('market', 'NOUN'), ('closely', 'ADV'), (',', '.'), ('reached', 'VERB'), ('a', 'DET'), ('high', 'ADJ'), ('point', 'NOUN'), ('for', 'ADP'), ('the', 'DET'), ('year', 'NOUN'), ('--', '.'), ('33', 'NUM'), ('days', 'NOUN'), ('.', '.')]]\n"
     ]
    }
   ],
   "source": [
    "print(nltk_data[:40])"
   ]
  },
  {
   "cell_type": "markdown",
   "metadata": {},
   "source": [
    "## Configuration"
   ]
  },
  {
   "cell_type": "code",
   "execution_count": 61,
   "metadata": {},
   "outputs": [],
   "source": [
    "random_state=100\n",
    "small_sample = True"
   ]
  },
  {
   "cell_type": "code",
   "execution_count": 62,
   "metadata": {},
   "outputs": [],
   "source": [
    "train_set, test_set = train_test_split(nltk_data,test_size=0.05,random_state=random_state)"
   ]
  },
  {
   "cell_type": "code",
   "execution_count": 63,
   "metadata": {},
   "outputs": [
    {
     "data": {
      "text/plain": [
       "95949"
      ]
     },
     "execution_count": 63,
     "metadata": {},
     "output_type": "execute_result"
    }
   ],
   "source": [
    "train_tagged_words = [tup for sent in train_set for tup in sent]\n",
    "len(train_tagged_words)"
   ]
  },
  {
   "cell_type": "code",
   "execution_count": 64,
   "metadata": {},
   "outputs": [
    {
     "data": {
      "text/plain": [
       "['One',\n",
       " 'bright',\n",
       " 'sign',\n",
       " 'is',\n",
       " 'that',\n",
       " 'a',\n",
       " 'growing',\n",
       " 'number',\n",
       " 'of',\n",
       " 'women']"
      ]
     },
     "execution_count": 64,
     "metadata": {},
     "output_type": "execute_result"
    }
   ],
   "source": [
    "# tokens \n",
    "tokens = [pair[0] for pair in train_tagged_words]\n",
    "tokens[:10]"
   ]
  },
  {
   "cell_type": "code",
   "execution_count": 65,
   "metadata": {},
   "outputs": [
    {
     "name": "stdout",
     "output_type": "stream",
     "text": [
      "12106\n"
     ]
    }
   ],
   "source": [
    "# vocabulary\n",
    "V = set(tokens)\n",
    "print(len(V))"
   ]
  },
  {
   "cell_type": "code",
   "execution_count": 66,
   "metadata": {},
   "outputs": [
    {
     "data": {
      "text/plain": [
       "12"
      ]
     },
     "execution_count": 66,
     "metadata": {},
     "output_type": "execute_result"
    }
   ],
   "source": [
    "# number of tags\n",
    "T = set([pair[1] for pair in train_tagged_words])\n",
    "len(T)"
   ]
  },
  {
   "cell_type": "code",
   "execution_count": 67,
   "metadata": {},
   "outputs": [
    {
     "name": "stdout",
     "output_type": "stream",
     "text": [
      "{'NUM', 'PRON', 'ADP', 'ADV', 'PRT', 'DET', 'X', 'CONJ', 'VERB', 'NOUN', 'ADJ', '.'}\n"
     ]
    }
   ],
   "source": [
    "print(T)"
   ]
  },
  {
   "cell_type": "markdown",
   "metadata": {},
   "source": [
    "## Emission Probabilities"
   ]
  },
  {
   "cell_type": "code",
   "execution_count": 68,
   "metadata": {},
   "outputs": [],
   "source": [
    "# computing P(w/t) and storing in T x V matrix\n",
    "t = len(T)\n",
    "v = len(V)\n",
    "w_given_t = np.zeros((t, v))"
   ]
  },
  {
   "cell_type": "code",
   "execution_count": 69,
   "metadata": {},
   "outputs": [],
   "source": [
    "# compute word given tag: Emission Probability\n",
    "def word_given_tag(word, tag, train_bag=train_tagged_words):\n",
    "    tag_list = [pair for pair in train_bag if pair[1] == tag]\n",
    "    count_tag = len(tag_list)\n",
    "    w_given_tag_list = [pair[0] for pair in tag_list if pair[0] == word]\n",
    "    count_w_given_tag = len(w_given_tag_list)\n",
    "    return (count_w_given_tag, count_tag)"
   ]
  },
  {
   "cell_type": "code",
   "execution_count": 70,
   "metadata": {},
   "outputs": [
    {
     "name": "stdout",
     "output_type": "stream",
     "text": [
      "\n",
      " have\n",
      "(0, 2610)\n",
      "(0, 27539)\n",
      "(305, 12919)\n"
     ]
    }
   ],
   "source": [
    "# Example will\n",
    "print(\"\\n\", \"have\")\n",
    "print(word_given_tag('have', 'PRON'))\n",
    "print(word_given_tag('have', 'NOUN'))\n",
    "print(word_given_tag('have', 'VERB'))"
   ]
  },
  {
   "cell_type": "markdown",
   "metadata": {},
   "source": [
    "## Transition Probabilities"
   ]
  },
  {
   "cell_type": "code",
   "execution_count": 71,
   "metadata": {},
   "outputs": [],
   "source": [
    "# compute tag given tag: tag2(t2) given tag1 (t1), i.e. Transition Probability\n",
    "def t2_given_t1(t2, t1, train_bag=train_tagged_words):\n",
    "    tags = [pair[1] for pair in train_bag]\n",
    "    count_t1 = len([t for t in tags if t == t1])\n",
    "    count_t2_t1 = 0\n",
    "    for index in range(len(tags) - 1):\n",
    "        if tags[index] == t1 and tags[index + 1] == t2:\n",
    "            count_t2_t1 += 1\n",
    "    return (count_t2_t1, count_t1)"
   ]
  },
  {
   "cell_type": "code",
   "execution_count": 72,
   "metadata": {},
   "outputs": [
    {
     "name": "stdout",
     "output_type": "stream",
     "text": [
      "(4047, 27539)\n",
      "(4279, 6105)\n"
     ]
    }
   ],
   "source": [
    "# examples\n",
    "print(t2_given_t1(t2='VERB', t1='NOUN'))\n",
    "print(t2_given_t1('NOUN', 'ADJ'))"
   ]
  },
  {
   "cell_type": "code",
   "execution_count": 73,
   "metadata": {},
   "outputs": [
    {
     "name": "stdout",
     "output_type": "stream",
     "text": [
      "(2481, 11149)\n",
      "(989, 11149)\n",
      "(487, 11149)\n"
     ]
    }
   ],
   "source": [
    "#Please note P(tag|start) is same as P(tag|'.')\n",
    "print(t2_given_t1('NOUN', '.'))\n",
    "print(t2_given_t1('VERB', '.'))\n",
    "print(t2_given_t1('ADJ', '.'))"
   ]
  },
  {
   "cell_type": "code",
   "execution_count": 74,
   "metadata": {},
   "outputs": [],
   "source": [
    "# creating t x t transition matrix of tags\n",
    "# each column is t2, each row is t1\n",
    "# thus M(i, j) represents P(tj given ti)\n",
    "\n",
    "tags_matrix = np.zeros((len(T), len(T)), dtype='float32')\n",
    "for i, t1 in enumerate(list(T)):\n",
    "    for j, t2 in enumerate(list(T)):\n",
    "        tags_matrix[i, j] = t2_given_t1(t2, t1)[0] / t2_given_t1(t2, t1)[1]"
   ]
  },
  {
   "cell_type": "code",
   "execution_count": 75,
   "metadata": {},
   "outputs": [
    {
     "data": {
      "text/plain": [
       "array([[1.84194893e-01, 1.48544263e-03, 3.50564457e-02, 2.67379684e-03,\n",
       "        2.61437912e-02, 3.86215094e-03, 2.11824119e-01, 1.30718956e-02,\n",
       "        1.69340465e-02, 3.52346987e-01, 3.35710049e-02, 1.18835412e-01],\n",
       "       [7.27969361e-03, 7.66283507e-03, 2.33716480e-02, 3.40996161e-02,\n",
       "        1.22605367e-02, 9.19540226e-03, 9.27203074e-02, 4.98084305e-03,\n",
       "        4.84291196e-01, 2.11494252e-01, 7.20306486e-02, 4.06130254e-02],\n",
       "       [6.19103163e-02, 6.91190511e-02, 1.74917839e-02, 1.33573627e-02,\n",
       "        1.48415135e-03, 3.23969036e-01, 3.49835679e-02, 8.48086493e-04,\n",
       "        8.48086551e-03, 3.21212769e-01, 1.07388951e-01, 3.97540554e-02],\n",
       "       [3.16244997e-02, 1.56458057e-02, 1.19507320e-01, 7.72303566e-02,\n",
       "        1.43142473e-02, 6.99067935e-02, 2.33022645e-02, 6.99067907e-03,\n",
       "        3.44540626e-01, 3.16244997e-02, 1.30159780e-01, 1.35153130e-01],\n",
       "       [5.61023615e-02, 1.77165363e-02, 1.93569548e-02, 1.01706041e-02,\n",
       "        1.96850393e-03, 1.01049870e-01, 1.31233595e-02, 2.29658792e-03,\n",
       "        4.05183733e-01, 2.45734915e-01, 8.36614147e-02, 4.36351709e-02],\n",
       "       [2.16398165e-02, 3.72685748e-03, 9.61769652e-03, 1.26232272e-02,\n",
       "        2.40442416e-04, 5.77061810e-03, 4.53233942e-02, 4.80884832e-04,\n",
       "        4.03943248e-02, 6.37292624e-01, 2.04977155e-01, 1.79129597e-02],\n",
       "       [2.85668951e-03, 5.57054430e-02, 1.44897640e-01, 2.53927950e-02,\n",
       "        1.84891284e-01, 5.52293286e-02, 7.44326264e-02, 1.03158224e-02,\n",
       "        2.04570696e-01, 6.23710528e-02, 1.65053159e-02, 1.62831292e-01],\n",
       "       [4.21882235e-02, 5.84144630e-02, 5.37783951e-02, 5.37783951e-02,\n",
       "        3.70885478e-03, 1.18683353e-01, 8.80852994e-03, 4.63606848e-04,\n",
       "        1.55308291e-01, 3.50486785e-01, 1.18683353e-01, 3.56977284e-02],\n",
       "       [2.24475581e-02, 3.59160937e-02, 9.11835283e-02, 8.20496976e-02,\n",
       "        3.14265825e-02, 1.33292049e-01, 2.18437955e-01, 5.18616010e-03,\n",
       "        1.68743715e-01, 1.11386329e-01, 6.56397566e-02, 3.42905782e-02],\n",
       "       [9.55009274e-03, 4.72057797e-03, 1.77057996e-01, 1.68125201e-02,\n",
       "        4.33566943e-02, 1.33628668e-02, 2.88681500e-02, 4.29209471e-02,\n",
       "        1.46955222e-01, 2.64279753e-01, 1.21645667e-02, 2.39950612e-01],\n",
       "       [2.08026208e-02, 4.91400482e-04, 7.86240771e-02, 4.91400482e-03,\n",
       "        1.01556098e-02, 4.91400482e-03, 2.03112196e-02, 1.60524156e-02,\n",
       "        1.17936116e-02, 7.00900912e-01, 6.71580657e-02, 6.38820603e-02],\n",
       "       [8.13525841e-02, 6.52076453e-02, 9.22055766e-02, 5.22916839e-02,\n",
       "        2.51143589e-03, 1.73558161e-01, 2.69082431e-02, 5.80321103e-02,\n",
       "        8.87075067e-02, 2.22531170e-01, 4.36810479e-02, 9.29231346e-02]],\n",
       "      dtype=float32)"
      ]
     },
     "execution_count": 75,
     "metadata": {},
     "output_type": "execute_result"
    }
   ],
   "source": [
    "tags_matrix"
   ]
  },
  {
   "cell_type": "code",
   "execution_count": 76,
   "metadata": {},
   "outputs": [],
   "source": [
    "# convert the matrix to a df for better readability\n",
    "tags_df = pd.DataFrame(tags_matrix, columns = list(T), index=list(T))"
   ]
  },
  {
   "cell_type": "code",
   "execution_count": 77,
   "metadata": {},
   "outputs": [
    {
     "data": {
      "text/html": [
       "<div>\n",
       "<style scoped>\n",
       "    .dataframe tbody tr th:only-of-type {\n",
       "        vertical-align: middle;\n",
       "    }\n",
       "\n",
       "    .dataframe tbody tr th {\n",
       "        vertical-align: top;\n",
       "    }\n",
       "\n",
       "    .dataframe thead th {\n",
       "        text-align: right;\n",
       "    }\n",
       "</style>\n",
       "<table border=\"1\" class=\"dataframe\">\n",
       "  <thead>\n",
       "    <tr style=\"text-align: right;\">\n",
       "      <th></th>\n",
       "      <th>NUM</th>\n",
       "      <th>PRON</th>\n",
       "      <th>ADP</th>\n",
       "      <th>ADV</th>\n",
       "      <th>PRT</th>\n",
       "      <th>DET</th>\n",
       "      <th>X</th>\n",
       "      <th>CONJ</th>\n",
       "      <th>VERB</th>\n",
       "      <th>NOUN</th>\n",
       "      <th>ADJ</th>\n",
       "      <th>.</th>\n",
       "    </tr>\n",
       "  </thead>\n",
       "  <tbody>\n",
       "    <tr>\n",
       "      <td>NUM</td>\n",
       "      <td>0.1842</td>\n",
       "      <td>0.0015</td>\n",
       "      <td>0.0351</td>\n",
       "      <td>0.0027</td>\n",
       "      <td>0.0261</td>\n",
       "      <td>0.0039</td>\n",
       "      <td>0.2118</td>\n",
       "      <td>0.0131</td>\n",
       "      <td>0.0169</td>\n",
       "      <td>0.3523</td>\n",
       "      <td>0.0336</td>\n",
       "      <td>0.1188</td>\n",
       "    </tr>\n",
       "    <tr>\n",
       "      <td>PRON</td>\n",
       "      <td>0.0073</td>\n",
       "      <td>0.0077</td>\n",
       "      <td>0.0234</td>\n",
       "      <td>0.0341</td>\n",
       "      <td>0.0123</td>\n",
       "      <td>0.0092</td>\n",
       "      <td>0.0927</td>\n",
       "      <td>0.0050</td>\n",
       "      <td>0.4843</td>\n",
       "      <td>0.2115</td>\n",
       "      <td>0.0720</td>\n",
       "      <td>0.0406</td>\n",
       "    </tr>\n",
       "    <tr>\n",
       "      <td>ADP</td>\n",
       "      <td>0.0619</td>\n",
       "      <td>0.0691</td>\n",
       "      <td>0.0175</td>\n",
       "      <td>0.0134</td>\n",
       "      <td>0.0015</td>\n",
       "      <td>0.3240</td>\n",
       "      <td>0.0350</td>\n",
       "      <td>0.0008</td>\n",
       "      <td>0.0085</td>\n",
       "      <td>0.3212</td>\n",
       "      <td>0.1074</td>\n",
       "      <td>0.0398</td>\n",
       "    </tr>\n",
       "    <tr>\n",
       "      <td>ADV</td>\n",
       "      <td>0.0316</td>\n",
       "      <td>0.0156</td>\n",
       "      <td>0.1195</td>\n",
       "      <td>0.0772</td>\n",
       "      <td>0.0143</td>\n",
       "      <td>0.0699</td>\n",
       "      <td>0.0233</td>\n",
       "      <td>0.0070</td>\n",
       "      <td>0.3445</td>\n",
       "      <td>0.0316</td>\n",
       "      <td>0.1302</td>\n",
       "      <td>0.1352</td>\n",
       "    </tr>\n",
       "    <tr>\n",
       "      <td>PRT</td>\n",
       "      <td>0.0561</td>\n",
       "      <td>0.0177</td>\n",
       "      <td>0.0194</td>\n",
       "      <td>0.0102</td>\n",
       "      <td>0.0020</td>\n",
       "      <td>0.1010</td>\n",
       "      <td>0.0131</td>\n",
       "      <td>0.0023</td>\n",
       "      <td>0.4052</td>\n",
       "      <td>0.2457</td>\n",
       "      <td>0.0837</td>\n",
       "      <td>0.0436</td>\n",
       "    </tr>\n",
       "    <tr>\n",
       "      <td>DET</td>\n",
       "      <td>0.0216</td>\n",
       "      <td>0.0037</td>\n",
       "      <td>0.0096</td>\n",
       "      <td>0.0126</td>\n",
       "      <td>0.0002</td>\n",
       "      <td>0.0058</td>\n",
       "      <td>0.0453</td>\n",
       "      <td>0.0005</td>\n",
       "      <td>0.0404</td>\n",
       "      <td>0.6373</td>\n",
       "      <td>0.2050</td>\n",
       "      <td>0.0179</td>\n",
       "    </tr>\n",
       "    <tr>\n",
       "      <td>X</td>\n",
       "      <td>0.0029</td>\n",
       "      <td>0.0557</td>\n",
       "      <td>0.1449</td>\n",
       "      <td>0.0254</td>\n",
       "      <td>0.1849</td>\n",
       "      <td>0.0552</td>\n",
       "      <td>0.0744</td>\n",
       "      <td>0.0103</td>\n",
       "      <td>0.2046</td>\n",
       "      <td>0.0624</td>\n",
       "      <td>0.0165</td>\n",
       "      <td>0.1628</td>\n",
       "    </tr>\n",
       "    <tr>\n",
       "      <td>CONJ</td>\n",
       "      <td>0.0422</td>\n",
       "      <td>0.0584</td>\n",
       "      <td>0.0538</td>\n",
       "      <td>0.0538</td>\n",
       "      <td>0.0037</td>\n",
       "      <td>0.1187</td>\n",
       "      <td>0.0088</td>\n",
       "      <td>0.0005</td>\n",
       "      <td>0.1553</td>\n",
       "      <td>0.3505</td>\n",
       "      <td>0.1187</td>\n",
       "      <td>0.0357</td>\n",
       "    </tr>\n",
       "    <tr>\n",
       "      <td>VERB</td>\n",
       "      <td>0.0224</td>\n",
       "      <td>0.0359</td>\n",
       "      <td>0.0912</td>\n",
       "      <td>0.0820</td>\n",
       "      <td>0.0314</td>\n",
       "      <td>0.1333</td>\n",
       "      <td>0.2184</td>\n",
       "      <td>0.0052</td>\n",
       "      <td>0.1687</td>\n",
       "      <td>0.1114</td>\n",
       "      <td>0.0656</td>\n",
       "      <td>0.0343</td>\n",
       "    </tr>\n",
       "    <tr>\n",
       "      <td>NOUN</td>\n",
       "      <td>0.0096</td>\n",
       "      <td>0.0047</td>\n",
       "      <td>0.1771</td>\n",
       "      <td>0.0168</td>\n",
       "      <td>0.0434</td>\n",
       "      <td>0.0134</td>\n",
       "      <td>0.0289</td>\n",
       "      <td>0.0429</td>\n",
       "      <td>0.1470</td>\n",
       "      <td>0.2643</td>\n",
       "      <td>0.0122</td>\n",
       "      <td>0.2400</td>\n",
       "    </tr>\n",
       "    <tr>\n",
       "      <td>ADJ</td>\n",
       "      <td>0.0208</td>\n",
       "      <td>0.0005</td>\n",
       "      <td>0.0786</td>\n",
       "      <td>0.0049</td>\n",
       "      <td>0.0102</td>\n",
       "      <td>0.0049</td>\n",
       "      <td>0.0203</td>\n",
       "      <td>0.0161</td>\n",
       "      <td>0.0118</td>\n",
       "      <td>0.7009</td>\n",
       "      <td>0.0672</td>\n",
       "      <td>0.0639</td>\n",
       "    </tr>\n",
       "    <tr>\n",
       "      <td>.</td>\n",
       "      <td>0.0814</td>\n",
       "      <td>0.0652</td>\n",
       "      <td>0.0922</td>\n",
       "      <td>0.0523</td>\n",
       "      <td>0.0025</td>\n",
       "      <td>0.1736</td>\n",
       "      <td>0.0269</td>\n",
       "      <td>0.0580</td>\n",
       "      <td>0.0887</td>\n",
       "      <td>0.2225</td>\n",
       "      <td>0.0437</td>\n",
       "      <td>0.0929</td>\n",
       "    </tr>\n",
       "  </tbody>\n",
       "</table>\n",
       "</div>"
      ],
      "text/plain": [
       "        NUM   PRON    ADP    ADV    PRT    DET      X   CONJ   VERB   NOUN  \\\n",
       "NUM  0.1842 0.0015 0.0351 0.0027 0.0261 0.0039 0.2118 0.0131 0.0169 0.3523   \n",
       "PRON 0.0073 0.0077 0.0234 0.0341 0.0123 0.0092 0.0927 0.0050 0.4843 0.2115   \n",
       "ADP  0.0619 0.0691 0.0175 0.0134 0.0015 0.3240 0.0350 0.0008 0.0085 0.3212   \n",
       "ADV  0.0316 0.0156 0.1195 0.0772 0.0143 0.0699 0.0233 0.0070 0.3445 0.0316   \n",
       "PRT  0.0561 0.0177 0.0194 0.0102 0.0020 0.1010 0.0131 0.0023 0.4052 0.2457   \n",
       "DET  0.0216 0.0037 0.0096 0.0126 0.0002 0.0058 0.0453 0.0005 0.0404 0.6373   \n",
       "X    0.0029 0.0557 0.1449 0.0254 0.1849 0.0552 0.0744 0.0103 0.2046 0.0624   \n",
       "CONJ 0.0422 0.0584 0.0538 0.0538 0.0037 0.1187 0.0088 0.0005 0.1553 0.3505   \n",
       "VERB 0.0224 0.0359 0.0912 0.0820 0.0314 0.1333 0.2184 0.0052 0.1687 0.1114   \n",
       "NOUN 0.0096 0.0047 0.1771 0.0168 0.0434 0.0134 0.0289 0.0429 0.1470 0.2643   \n",
       "ADJ  0.0208 0.0005 0.0786 0.0049 0.0102 0.0049 0.0203 0.0161 0.0118 0.7009   \n",
       ".    0.0814 0.0652 0.0922 0.0523 0.0025 0.1736 0.0269 0.0580 0.0887 0.2225   \n",
       "\n",
       "        ADJ      .  \n",
       "NUM  0.0336 0.1188  \n",
       "PRON 0.0720 0.0406  \n",
       "ADP  0.1074 0.0398  \n",
       "ADV  0.1302 0.1352  \n",
       "PRT  0.0837 0.0436  \n",
       "DET  0.2050 0.0179  \n",
       "X    0.0165 0.1628  \n",
       "CONJ 0.1187 0.0357  \n",
       "VERB 0.0656 0.0343  \n",
       "NOUN 0.0122 0.2400  \n",
       "ADJ  0.0672 0.0639  \n",
       ".    0.0437 0.0929  "
      ]
     },
     "execution_count": 77,
     "metadata": {},
     "output_type": "execute_result"
    }
   ],
   "source": [
    "tags_df"
   ]
  },
  {
   "cell_type": "code",
   "execution_count": 78,
   "metadata": {},
   "outputs": [
    {
     "data": {
      "text/plain": [
       "NUM    0.0814\n",
       "PRON   0.0652\n",
       "ADP    0.0922\n",
       "ADV    0.0523\n",
       "PRT    0.0025\n",
       "DET    0.1736\n",
       "X      0.0269\n",
       "CONJ   0.0580\n",
       "VERB   0.0887\n",
       "NOUN   0.2225\n",
       "ADJ    0.0437\n",
       ".      0.0929\n",
       "Name: ., dtype: float32"
      ]
     },
     "execution_count": 78,
     "metadata": {},
     "output_type": "execute_result"
    }
   ],
   "source": [
    "tags_df.loc['.', :]"
   ]
  },
  {
   "cell_type": "code",
   "execution_count": 79,
   "metadata": {},
   "outputs": [
    {
     "data": {
      "image/png": "[encoded data removed]",
      "text/plain": [
       "<Figure size 1296x864 with 2 Axes>"
      ]
     },
     "metadata": {
      "image/png": {
       "height": 690,
       "width": 951
      },
      "needs_background": "light"
     },
     "output_type": "display_data"
    }
   ],
   "source": [
    "# heatmap of tags matrix\n",
    "# T(i, j) means P(tag j given tag i)\n",
    "plt.figure(figsize=(18, 12))\n",
    "sns.heatmap(tags_df)\n",
    "plt.show()\n"
   ]
  },
  {
   "cell_type": "code",
   "execution_count": 80,
   "metadata": {},
   "outputs": [
    {
     "data": {
      "image/png": "[encoded data removed]",
      "text/plain": [
       "<Figure size 1296x864 with 2 Axes>"
      ]
     },
     "metadata": {
      "image/png": {
       "height": 690,
       "width": 957
      },
      "needs_background": "light"
     },
     "output_type": "display_data"
    }
   ],
   "source": [
    "# frequent tags\n",
    "# filter the df to get P(t2, t1) > 0.5\n",
    "tags_frequent = tags_df[tags_df > 0.5]\n",
    "plt.figure(figsize=(18, 12))\n",
    "sns.heatmap(tags_frequent)\n",
    "plt.show()"
   ]
  },
  {
   "cell_type": "code",
   "execution_count": 81,
   "metadata": {},
   "outputs": [],
   "source": [
    "def run_and_get_accuracies(tagger, sample=small_sample):\n",
    "    # list of sents\n",
    "    # list of tagged words\n",
    "    if sample:\n",
    "        random.seed(random_state)\n",
    "        rndom = [random.randint(1, len(test_set)) for x in range(5)]\n",
    "        test_run = [test_set[i] for i in rndom]\n",
    "    else:\n",
    "        test_run = test_set\n",
    "\n",
    "    test_run_base = [tup for sent in test_run for tup in sent]\n",
    "    # list of untagged words\n",
    "    test_tagged_words = [tup[0] for sent in test_run for tup in sent]\n",
    "\n",
    "    print(\"Sample Sentences \\n\")\n",
    "    pprint.pprint(test_run[:4])\n",
    "    start = time.time()\n",
    "    tagged_seq = tagger(test_tagged_words)\n",
    "    end = time.time()\n",
    "    difference = end - start\n",
    "    print(\"\\nTime taken in (seconds): \", difference)\n",
    "    check = [i for i, j in zip(tagged_seq, test_run_base) if i == j]\n",
    "    accuracy = len(check) / len(tagged_seq)\n",
    "    print(\"\\naccuracy: \", accuracy)\n",
    "\n",
    "    incorrect_tagged_cases = [\n",
    "        j for i, j in enumerate(zip(tagged_seq, test_run_base)) if j[0] != j[1]\n",
    "    ]\n",
    "\n",
    "    print(\"\\nIncorrect tagged \\n\")\n",
    "    pprint.pprint(incorrect_tagged_cases[:5])\n",
    "    metrics_dict = {\n",
    "        'tagger': tagger.__name__,\n",
    "        'accuracy': accuracy * 100,\n",
    "        'incorrect_tagged': len(incorrect_tagged_cases)\n",
    "    }\n",
    "    records = []\n",
    "    records.append(metrics_dict)\n",
    "    return pd.DataFrame.from_records(records)"
   ]
  },
  {
   "cell_type": "markdown",
   "metadata": {},
   "source": [
    "### Build the vanilla Viterbi based POS tagger"
   ]
  },
  {
   "cell_type": "code",
   "execution_count": 82,
   "metadata": {},
   "outputs": [],
   "source": [
    "# Viterbi Heuristic\n",
    "def viterbi_vanilla(words, train_bag=train_tagged_words):\n",
    "    state = []\n",
    "    T = list(set([pair[1] for pair in train_bag]))\n",
    "\n",
    "    for key, word in enumerate(words):\n",
    "        # initialise list of probability column for a given observation\n",
    "        p = []\n",
    "        for tag in T:\n",
    "            if key == 0:\n",
    "                transition_p = tags_df.loc['.', tag]\n",
    "            else:\n",
    "                transition_p = tags_df.loc[state[-1], tag]\n",
    "\n",
    "            # compute emission and state probabilities\n",
    "            emission_p = word_given_tag(words[key], tag)[0] / word_given_tag(\n",
    "                words[key], tag)[1]\n",
    "            state_probability = emission_p * transition_p\n",
    "            p.append(state_probability)\n",
    "        pmax = max(p)\n",
    "        # getting state for which probability is maximum\n",
    "        state_max = T[p.index(pmax)]\n",
    "        state.append(state_max)\n",
    "    return list(zip(words, state))"
   ]
  },
  {
   "cell_type": "markdown",
   "metadata": {},
   "source": [
    "#### Evaluating tagging accuracy"
   ]
  },
  {
   "cell_type": "code",
   "execution_count": 83,
   "metadata": {},
   "outputs": [
    {
     "name": "stdout",
     "output_type": "stream",
     "text": [
      "Sample Sentences \n",
      "\n",
      "[[('Most', 'ADJ'),\n",
      "  ('in', 'ADP'),\n",
      "  ('demand', 'NOUN'),\n",
      "  (':', '.'),\n",
      "  ('classic', 'ADJ'),\n",
      "  ('photographs', 'NOUN'),\n",
      "  ('by', 'ADP'),\n",
      "  ('masters', 'NOUN'),\n",
      "  ('such', 'ADJ'),\n",
      "  ('as', 'ADP'),\n",
      "  ('Stieglitz', 'NOUN'),\n",
      "  ('and', 'CONJ'),\n",
      "  ('Man', 'NOUN'),\n",
      "  ('Ray', 'NOUN'),\n",
      "  ('.', '.')],\n",
      " [('``', '.'),\n",
      "  ('What', 'PRON'),\n",
      "  ('*T*-14', 'X'),\n",
      "  ('matters', 'VERB'),\n",
      "  ('is', 'VERB'),\n",
      "  ('what', 'PRON'),\n",
      "  ('advertisers', 'NOUN'),\n",
      "  ('are', 'VERB'),\n",
      "  ('paying', 'VERB'),\n",
      "  ('*T*-15', 'X'),\n",
      "  ('per', 'ADP'),\n",
      "  ('page', 'NOUN'),\n",
      "  (',', '.'),\n",
      "  ('and', 'CONJ'),\n",
      "  ('in', 'ADP'),\n",
      "  ('that', 'DET'),\n",
      "  ('department', 'NOUN'),\n",
      "  ('we', 'PRON'),\n",
      "  ('are', 'VERB'),\n",
      "  ('doing', 'VERB'),\n",
      "  ('fine', 'ADV'),\n",
      "  ('this', 'DET'),\n",
      "  ('fall', 'NOUN'),\n",
      "  (',', '.'),\n",
      "  (\"''\", '.'),\n",
      "  ('said', 'VERB'),\n",
      "  ('*T*-1', 'X'),\n",
      "  ('Mr.', 'NOUN'),\n",
      "  ('Spoon', 'NOUN'),\n",
      "  ('.', '.')],\n",
      " [('But', 'CONJ'),\n",
      "  ('the', 'DET'),\n",
      "  ('Army', 'NOUN'),\n",
      "  ('Corps', 'NOUN'),\n",
      "  ('of', 'ADP'),\n",
      "  ('Engineers', 'NOUN'),\n",
      "  ('expects', 'VERB'),\n",
      "  ('the', 'DET'),\n",
      "  ('river', 'NOUN'),\n",
      "  ('level', 'NOUN'),\n",
      "  ('to', 'PRT'),\n",
      "  ('continue', 'VERB'),\n",
      "  ('*-1', 'X'),\n",
      "  ('falling', 'VERB'),\n",
      "  ('this', 'DET'),\n",
      "  ('month', 'NOUN'),\n",
      "  ('.', '.')],\n",
      " [('The', 'DET'),\n",
      "  ('protracted', 'ADJ'),\n",
      "  ('downturn', 'NOUN'),\n",
      "  ('reflects', 'VERB'),\n",
      "  ('the', 'DET'),\n",
      "  ('intensity', 'NOUN'),\n",
      "  ('of', 'ADP'),\n",
      "  ('Bank', 'NOUN'),\n",
      "  ('of', 'ADP'),\n",
      "  ('Japan', 'NOUN'),\n",
      "  ('yen-support', 'ADJ'),\n",
      "  ('intervention', 'NOUN'),\n",
      "  ('since', 'ADP'),\n",
      "  ('June', 'NOUN'),\n",
      "  (',', '.'),\n",
      "  ('when', 'ADV'),\n",
      "  ('the', 'DET'),\n",
      "  ('U.S.', 'NOUN'),\n",
      "  ('currency', 'NOUN'),\n",
      "  ('temporarily', 'ADV'),\n",
      "  ('surged', 'VERB'),\n",
      "  ('above', 'ADP'),\n",
      "  ('the', 'DET'),\n",
      "  ('150.00', 'NUM'),\n",
      "  ('yen', 'NOUN'),\n",
      "  ('level', 'NOUN'),\n",
      "  ('*T*-1', 'X'),\n",
      "  ('.', '.')]]\n",
      "\n",
      "Time taken in (seconds):  17.801207065582275\n",
      "\n",
      "accuracy:  0.9428571428571428\n",
      "\n",
      "Incorrect tagged \n",
      "\n",
      "[(('masters', 'NUM'), ('masters', 'NOUN')),\n",
      " (('matters', 'NOUN'), ('matters', 'VERB')),\n",
      " (('fine', 'NOUN'), ('fine', 'ADV')),\n",
      " (('yen-support', 'NUM'), ('yen-support', 'ADJ')),\n",
      " (('intervention', 'NUM'), ('intervention', 'NOUN'))]\n"
     ]
    },
    {
     "data": {
      "text/html": [
       "<div>\n",
       "<style scoped>\n",
       "    .dataframe tbody tr th:only-of-type {\n",
       "        vertical-align: middle;\n",
       "    }\n",
       "\n",
       "    .dataframe tbody tr th {\n",
       "        vertical-align: top;\n",
       "    }\n",
       "\n",
       "    .dataframe thead th {\n",
       "        text-align: right;\n",
       "    }\n",
       "</style>\n",
       "<table border=\"1\" class=\"dataframe\">\n",
       "  <thead>\n",
       "    <tr style=\"text-align: right;\">\n",
       "      <th></th>\n",
       "      <th>tagger</th>\n",
       "      <th>accuracy</th>\n",
       "      <th>incorrect_tagged</th>\n",
       "    </tr>\n",
       "  </thead>\n",
       "  <tbody>\n",
       "    <tr>\n",
       "      <td>0</td>\n",
       "      <td>viterbi_vanilla</td>\n",
       "      <td>94.2857</td>\n",
       "      <td>6</td>\n",
       "    </tr>\n",
       "  </tbody>\n",
       "</table>\n",
       "</div>"
      ],
      "text/plain": [
       "            tagger  accuracy  incorrect_tagged\n",
       "0  viterbi_vanilla   94.2857                 6"
      ]
     },
     "execution_count": 83,
     "metadata": {},
     "output_type": "execute_result"
    }
   ],
   "source": [
    "tagger_metrics = run_and_get_accuracies(viterbi_vanilla)\n",
    "tagger_metrics"
   ]
  },
  {
   "cell_type": "markdown",
   "metadata": {},
   "source": [
    "### Solve the problem of unknown words"
   ]
  },
  {
   "cell_type": "markdown",
   "metadata": {},
   "source": [
    "We will be following the approaches mentioned in the paper https://cl.lingfil.uu.se/~nivre/statmet/haulrich.pdf"
   ]
  },
  {
   "cell_type": "code",
   "execution_count": 84,
   "metadata": {},
   "outputs": [
    {
     "name": "stdout",
     "output_type": "stream",
     "text": [
      "Total tags:  95949\n"
     ]
    },
    {
     "data": {
      "text/plain": [
       "Counter({'NUM': 0.035081136853953664,\n",
       "         'ADJ': 0.06362755213707282,\n",
       "         'NOUN': 0.2870170611470677,\n",
       "         'VERB': 0.13464444652888513,\n",
       "         'ADP': 0.09831264525946075,\n",
       "         'DET': 0.08669188839904532,\n",
       "         'ADV': 0.03130829920061699,\n",
       "         '.': 0.11619714640069204,\n",
       "         'X': 0.06567030401567499,\n",
       "         'PRON': 0.027201951036488134,\n",
       "         'PRT': 0.03176687615295626,\n",
       "         'CONJ': 0.022480692868086172})"
      ]
     },
     "execution_count": 84,
     "metadata": {},
     "output_type": "execute_result"
    }
   ],
   "source": [
    "from collections import Counter\n",
    "\n",
    "tags_with_frequency = Counter([pair[1] for pair in train_tagged_words])\n",
    "tags_count = sum(tags_with_frequency.values())\n",
    "print('Total tags: ', tags_count)\n",
    "\n",
    "for k in tags_with_frequency.keys():\n",
    "    tags_with_frequency[k] = tags_with_frequency[k] / tags_count\n",
    "\n",
    "tags_with_frequency"
   ]
  },
  {
   "cell_type": "markdown",
   "metadata": {},
   "source": [
    "### Most probable POS-tag\n",
    "Looking at the whole training corpus we can find the most frequent POS-tagand assume that unknown words always have this POS-tag. This implies that for all unknown words we will select the tag with highest frequency in the corpus."
   ]
  },
  {
   "cell_type": "code",
   "execution_count": 85,
   "metadata": {},
   "outputs": [],
   "source": [
    "def viterbi_modified_most_probable_pos_tag(words,\n",
    "                                           train_bag=train_tagged_words):\n",
    "    state = []\n",
    "    T = list(set([pair[1] for pair in train_bag]))\n",
    "    unknown_words = []\n",
    "    tag_with_max_frequency = max(tags_with_frequency,\n",
    "                                 key=tags_with_frequency.get)\n",
    "    for key, word in enumerate(words):\n",
    "        # initialise list of probability column for a given observation\n",
    "        p = []\n",
    "        for tag in T:\n",
    "            if key == 0:\n",
    "                transition_p = tags_df.loc['.', tag]\n",
    "            else:\n",
    "                transition_p = tags_df.loc[state[-1], tag]\n",
    "\n",
    "            # compute emission and state probabilities\n",
    "            emission_p = word_given_tag(words[key], tag)[0] / word_given_tag(\n",
    "                words[key], tag)[1]\n",
    "            state_probability = emission_p * transition_p\n",
    "            p.append(state_probability)\n",
    "\n",
    "        pmax = max(p)\n",
    "        if pmax == 0:\n",
    "            state_max = tag_with_max_frequency\n",
    "            unknown_words.append({\"word\": word, \"mapped_to\": state_max})\n",
    "        else:\n",
    "            # getting state for which probability is maximum\n",
    "            state_max = T[p.index(pmax)]\n",
    "        state.append(state_max)\n",
    "    print(\"\\nUnknown words:\")\n",
    "    display(pd.DataFrame.from_records(unknown_words))\n",
    "    return list(zip(words, state))"
   ]
  },
  {
   "cell_type": "markdown",
   "metadata": {},
   "source": [
    "#### Evaluating tagging accuracy"
   ]
  },
  {
   "cell_type": "code",
   "execution_count": 86,
   "metadata": {},
   "outputs": [
    {
     "name": "stdout",
     "output_type": "stream",
     "text": [
      "Sample Sentences \n",
      "\n",
      "[[('Most', 'ADJ'),\n",
      "  ('in', 'ADP'),\n",
      "  ('demand', 'NOUN'),\n",
      "  (':', '.'),\n",
      "  ('classic', 'ADJ'),\n",
      "  ('photographs', 'NOUN'),\n",
      "  ('by', 'ADP'),\n",
      "  ('masters', 'NOUN'),\n",
      "  ('such', 'ADJ'),\n",
      "  ('as', 'ADP'),\n",
      "  ('Stieglitz', 'NOUN'),\n",
      "  ('and', 'CONJ'),\n",
      "  ('Man', 'NOUN'),\n",
      "  ('Ray', 'NOUN'),\n",
      "  ('.', '.')],\n",
      " [('``', '.'),\n",
      "  ('What', 'PRON'),\n",
      "  ('*T*-14', 'X'),\n",
      "  ('matters', 'VERB'),\n",
      "  ('is', 'VERB'),\n",
      "  ('what', 'PRON'),\n",
      "  ('advertisers', 'NOUN'),\n",
      "  ('are', 'VERB'),\n",
      "  ('paying', 'VERB'),\n",
      "  ('*T*-15', 'X'),\n",
      "  ('per', 'ADP'),\n",
      "  ('page', 'NOUN'),\n",
      "  (',', '.'),\n",
      "  ('and', 'CONJ'),\n",
      "  ('in', 'ADP'),\n",
      "  ('that', 'DET'),\n",
      "  ('department', 'NOUN'),\n",
      "  ('we', 'PRON'),\n",
      "  ('are', 'VERB'),\n",
      "  ('doing', 'VERB'),\n",
      "  ('fine', 'ADV'),\n",
      "  ('this', 'DET'),\n",
      "  ('fall', 'NOUN'),\n",
      "  (',', '.'),\n",
      "  (\"''\", '.'),\n",
      "  ('said', 'VERB'),\n",
      "  ('*T*-1', 'X'),\n",
      "  ('Mr.', 'NOUN'),\n",
      "  ('Spoon', 'NOUN'),\n",
      "  ('.', '.')],\n",
      " [('But', 'CONJ'),\n",
      "  ('the', 'DET'),\n",
      "  ('Army', 'NOUN'),\n",
      "  ('Corps', 'NOUN'),\n",
      "  ('of', 'ADP'),\n",
      "  ('Engineers', 'NOUN'),\n",
      "  ('expects', 'VERB'),\n",
      "  ('the', 'DET'),\n",
      "  ('river', 'NOUN'),\n",
      "  ('level', 'NOUN'),\n",
      "  ('to', 'PRT'),\n",
      "  ('continue', 'VERB'),\n",
      "  ('*-1', 'X'),\n",
      "  ('falling', 'VERB'),\n",
      "  ('this', 'DET'),\n",
      "  ('month', 'NOUN'),\n",
      "  ('.', '.')],\n",
      " [('The', 'DET'),\n",
      "  ('protracted', 'ADJ'),\n",
      "  ('downturn', 'NOUN'),\n",
      "  ('reflects', 'VERB'),\n",
      "  ('the', 'DET'),\n",
      "  ('intensity', 'NOUN'),\n",
      "  ('of', 'ADP'),\n",
      "  ('Bank', 'NOUN'),\n",
      "  ('of', 'ADP'),\n",
      "  ('Japan', 'NOUN'),\n",
      "  ('yen-support', 'ADJ'),\n",
      "  ('intervention', 'NOUN'),\n",
      "  ('since', 'ADP'),\n",
      "  ('June', 'NOUN'),\n",
      "  (',', '.'),\n",
      "  ('when', 'ADV'),\n",
      "  ('the', 'DET'),\n",
      "  ('U.S.', 'NOUN'),\n",
      "  ('currency', 'NOUN'),\n",
      "  ('temporarily', 'ADV'),\n",
      "  ('surged', 'VERB'),\n",
      "  ('above', 'ADP'),\n",
      "  ('the', 'DET'),\n",
      "  ('150.00', 'NUM'),\n",
      "  ('yen', 'NOUN'),\n",
      "  ('level', 'NOUN'),\n",
      "  ('*T*-1', 'X'),\n",
      "  ('.', '.')]]\n",
      "\n",
      "Unknown words:\n"
     ]
    },
    {
     "data": {
      "text/html": [
       "<div>\n",
       "<style scoped>\n",
       "    .dataframe tbody tr th:only-of-type {\n",
       "        vertical-align: middle;\n",
       "    }\n",
       "\n",
       "    .dataframe tbody tr th {\n",
       "        vertical-align: top;\n",
       "    }\n",
       "\n",
       "    .dataframe thead th {\n",
       "        text-align: right;\n",
       "    }\n",
       "</style>\n",
       "<table border=\"1\" class=\"dataframe\">\n",
       "  <thead>\n",
       "    <tr style=\"text-align: right;\">\n",
       "      <th></th>\n",
       "      <th>word</th>\n",
       "      <th>mapped_to</th>\n",
       "    </tr>\n",
       "  </thead>\n",
       "  <tbody>\n",
       "    <tr>\n",
       "      <td>0</td>\n",
       "      <td>masters</td>\n",
       "      <td>NOUN</td>\n",
       "    </tr>\n",
       "    <tr>\n",
       "      <td>1</td>\n",
       "      <td>yen-support</td>\n",
       "      <td>NOUN</td>\n",
       "    </tr>\n",
       "    <tr>\n",
       "      <td>2</td>\n",
       "      <td>intervention</td>\n",
       "      <td>NOUN</td>\n",
       "    </tr>\n",
       "    <tr>\n",
       "      <td>3</td>\n",
       "      <td>150.00</td>\n",
       "      <td>NOUN</td>\n",
       "    </tr>\n",
       "    <tr>\n",
       "      <td>4</td>\n",
       "      <td>Iran-Contra</td>\n",
       "      <td>NOUN</td>\n",
       "    </tr>\n",
       "  </tbody>\n",
       "</table>\n",
       "</div>"
      ],
      "text/plain": [
       "           word mapped_to\n",
       "0       masters      NOUN\n",
       "1   yen-support      NOUN\n",
       "2  intervention      NOUN\n",
       "3        150.00      NOUN\n",
       "4   Iran-Contra      NOUN"
      ]
     },
     "metadata": {},
     "output_type": "display_data"
    },
    {
     "name": "stdout",
     "output_type": "stream",
     "text": [
      "\n",
      "Time taken in (seconds):  18.309807062149048\n",
      "\n",
      "accuracy:  0.9619047619047619\n",
      "\n",
      "Incorrect tagged \n",
      "\n",
      "[(('matters', 'NOUN'), ('matters', 'VERB')),\n",
      " (('fine', 'NOUN'), ('fine', 'ADV')),\n",
      " (('yen-support', 'NOUN'), ('yen-support', 'ADJ')),\n",
      " (('150.00', 'NOUN'), ('150.00', 'NUM'))]\n"
     ]
    },
    {
     "data": {
      "text/html": [
       "<div>\n",
       "<style scoped>\n",
       "    .dataframe tbody tr th:only-of-type {\n",
       "        vertical-align: middle;\n",
       "    }\n",
       "\n",
       "    .dataframe tbody tr th {\n",
       "        vertical-align: top;\n",
       "    }\n",
       "\n",
       "    .dataframe thead th {\n",
       "        text-align: right;\n",
       "    }\n",
       "</style>\n",
       "<table border=\"1\" class=\"dataframe\">\n",
       "  <thead>\n",
       "    <tr style=\"text-align: right;\">\n",
       "      <th></th>\n",
       "      <th>tagger</th>\n",
       "      <th>accuracy</th>\n",
       "      <th>incorrect_tagged</th>\n",
       "    </tr>\n",
       "  </thead>\n",
       "  <tbody>\n",
       "    <tr>\n",
       "      <td>0</td>\n",
       "      <td>viterbi_modified_most_probable_pos_tag</td>\n",
       "      <td>96.1905</td>\n",
       "      <td>4</td>\n",
       "    </tr>\n",
       "  </tbody>\n",
       "</table>\n",
       "</div>"
      ],
      "text/plain": [
       "                                   tagger  accuracy  incorrect_tagged\n",
       "0  viterbi_modified_most_probable_pos_tag   96.1905                 4"
      ]
     },
     "execution_count": 86,
     "metadata": {},
     "output_type": "execute_result"
    }
   ],
   "source": [
    "df = run_and_get_accuracies(viterbi_modified_most_probable_pos_tag)\n",
    "tagger_metrics = pd.concat([tagger_metrics,df],axis=0)\n",
    "df"
   ]
  },
  {
   "cell_type": "markdown",
   "metadata": {},
   "source": [
    "## Overall POS distribution"
   ]
  },
  {
   "cell_type": "markdown",
   "metadata": {},
   "source": [
    "Here we give weight to probabilities of each tag. "
   ]
  },
  {
   "cell_type": "code",
   "execution_count": 87,
   "metadata": {},
   "outputs": [],
   "source": [
    "def viterbi_modified_overall_pos_distribution(words,\n",
    "                                              train_bag=train_tagged_words):\n",
    "    state = []\n",
    "    T = list(set([pair[1] for pair in train_bag]))\n",
    "    unknown_words = []\n",
    "    for key, word in enumerate(words):\n",
    "        # initialise list of probability column for a given observation\n",
    "        p = []\n",
    "        p_trans = []\n",
    "        for tag in T:\n",
    "            if key == 0:\n",
    "                transition_p = tags_df.loc['.', tag]\n",
    "            else:\n",
    "                transition_p = tags_df.loc[state[-1], tag]\n",
    "\n",
    "            # compute emission and state probabilities\n",
    "            emission_p = word_given_tag(words[key], tag)[0] / word_given_tag(\n",
    "                words[key], tag)[1]\n",
    "            state_probability = emission_p * transition_p\n",
    "            p.append(state_probability)\n",
    "            p_trans.append(tags_with_frequency.get(tag) * transition_p)\n",
    "\n",
    "        pmax = max(p)\n",
    "        if pmax == 0:\n",
    "            pmax = max(p_trans)\n",
    "            state_max = T[p_trans.index(pmax)]\n",
    "            unknown_words.append({\n",
    "                \"word\": word,\n",
    "                \"mapped_to\": state_max\n",
    "            })\n",
    "        else:\n",
    "            # getting state for which probability is maximum\n",
    "            state_max = T[p.index(pmax)]\n",
    "\n",
    "        state.append(state_max)\n",
    "    print(\"\\nUnknown words:\")\n",
    "    display(pd.DataFrame.from_records(unknown_words))\n",
    "    return list(zip(words, state))"
   ]
  },
  {
   "cell_type": "markdown",
   "metadata": {},
   "source": [
    "#### Evaluating tagging accuracy"
   ]
  },
  {
   "cell_type": "code",
   "execution_count": 88,
   "metadata": {},
   "outputs": [
    {
     "name": "stdout",
     "output_type": "stream",
     "text": [
      "Sample Sentences \n",
      "\n",
      "[[('Most', 'ADJ'),\n",
      "  ('in', 'ADP'),\n",
      "  ('demand', 'NOUN'),\n",
      "  (':', '.'),\n",
      "  ('classic', 'ADJ'),\n",
      "  ('photographs', 'NOUN'),\n",
      "  ('by', 'ADP'),\n",
      "  ('masters', 'NOUN'),\n",
      "  ('such', 'ADJ'),\n",
      "  ('as', 'ADP'),\n",
      "  ('Stieglitz', 'NOUN'),\n",
      "  ('and', 'CONJ'),\n",
      "  ('Man', 'NOUN'),\n",
      "  ('Ray', 'NOUN'),\n",
      "  ('.', '.')],\n",
      " [('``', '.'),\n",
      "  ('What', 'PRON'),\n",
      "  ('*T*-14', 'X'),\n",
      "  ('matters', 'VERB'),\n",
      "  ('is', 'VERB'),\n",
      "  ('what', 'PRON'),\n",
      "  ('advertisers', 'NOUN'),\n",
      "  ('are', 'VERB'),\n",
      "  ('paying', 'VERB'),\n",
      "  ('*T*-15', 'X'),\n",
      "  ('per', 'ADP'),\n",
      "  ('page', 'NOUN'),\n",
      "  (',', '.'),\n",
      "  ('and', 'CONJ'),\n",
      "  ('in', 'ADP'),\n",
      "  ('that', 'DET'),\n",
      "  ('department', 'NOUN'),\n",
      "  ('we', 'PRON'),\n",
      "  ('are', 'VERB'),\n",
      "  ('doing', 'VERB'),\n",
      "  ('fine', 'ADV'),\n",
      "  ('this', 'DET'),\n",
      "  ('fall', 'NOUN'),\n",
      "  (',', '.'),\n",
      "  (\"''\", '.'),\n",
      "  ('said', 'VERB'),\n",
      "  ('*T*-1', 'X'),\n",
      "  ('Mr.', 'NOUN'),\n",
      "  ('Spoon', 'NOUN'),\n",
      "  ('.', '.')],\n",
      " [('But', 'CONJ'),\n",
      "  ('the', 'DET'),\n",
      "  ('Army', 'NOUN'),\n",
      "  ('Corps', 'NOUN'),\n",
      "  ('of', 'ADP'),\n",
      "  ('Engineers', 'NOUN'),\n",
      "  ('expects', 'VERB'),\n",
      "  ('the', 'DET'),\n",
      "  ('river', 'NOUN'),\n",
      "  ('level', 'NOUN'),\n",
      "  ('to', 'PRT'),\n",
      "  ('continue', 'VERB'),\n",
      "  ('*-1', 'X'),\n",
      "  ('falling', 'VERB'),\n",
      "  ('this', 'DET'),\n",
      "  ('month', 'NOUN'),\n",
      "  ('.', '.')],\n",
      " [('The', 'DET'),\n",
      "  ('protracted', 'ADJ'),\n",
      "  ('downturn', 'NOUN'),\n",
      "  ('reflects', 'VERB'),\n",
      "  ('the', 'DET'),\n",
      "  ('intensity', 'NOUN'),\n",
      "  ('of', 'ADP'),\n",
      "  ('Bank', 'NOUN'),\n",
      "  ('of', 'ADP'),\n",
      "  ('Japan', 'NOUN'),\n",
      "  ('yen-support', 'ADJ'),\n",
      "  ('intervention', 'NOUN'),\n",
      "  ('since', 'ADP'),\n",
      "  ('June', 'NOUN'),\n",
      "  (',', '.'),\n",
      "  ('when', 'ADV'),\n",
      "  ('the', 'DET'),\n",
      "  ('U.S.', 'NOUN'),\n",
      "  ('currency', 'NOUN'),\n",
      "  ('temporarily', 'ADV'),\n",
      "  ('surged', 'VERB'),\n",
      "  ('above', 'ADP'),\n",
      "  ('the', 'DET'),\n",
      "  ('150.00', 'NUM'),\n",
      "  ('yen', 'NOUN'),\n",
      "  ('level', 'NOUN'),\n",
      "  ('*T*-1', 'X'),\n",
      "  ('.', '.')]]\n",
      "\n",
      "Unknown words:\n"
     ]
    },
    {
     "data": {
      "text/html": [
       "<div>\n",
       "<style scoped>\n",
       "    .dataframe tbody tr th:only-of-type {\n",
       "        vertical-align: middle;\n",
       "    }\n",
       "\n",
       "    .dataframe tbody tr th {\n",
       "        vertical-align: top;\n",
       "    }\n",
       "\n",
       "    .dataframe thead th {\n",
       "        text-align: right;\n",
       "    }\n",
       "</style>\n",
       "<table border=\"1\" class=\"dataframe\">\n",
       "  <thead>\n",
       "    <tr style=\"text-align: right;\">\n",
       "      <th></th>\n",
       "      <th>word</th>\n",
       "      <th>mapped_to</th>\n",
       "    </tr>\n",
       "  </thead>\n",
       "  <tbody>\n",
       "    <tr>\n",
       "      <td>0</td>\n",
       "      <td>masters</td>\n",
       "      <td>NOUN</td>\n",
       "    </tr>\n",
       "    <tr>\n",
       "      <td>1</td>\n",
       "      <td>yen-support</td>\n",
       "      <td>NOUN</td>\n",
       "    </tr>\n",
       "    <tr>\n",
       "      <td>2</td>\n",
       "      <td>intervention</td>\n",
       "      <td>NOUN</td>\n",
       "    </tr>\n",
       "    <tr>\n",
       "      <td>3</td>\n",
       "      <td>150.00</td>\n",
       "      <td>NOUN</td>\n",
       "    </tr>\n",
       "    <tr>\n",
       "      <td>4</td>\n",
       "      <td>Iran-Contra</td>\n",
       "      <td>NOUN</td>\n",
       "    </tr>\n",
       "  </tbody>\n",
       "</table>\n",
       "</div>"
      ],
      "text/plain": [
       "           word mapped_to\n",
       "0       masters      NOUN\n",
       "1   yen-support      NOUN\n",
       "2  intervention      NOUN\n",
       "3        150.00      NOUN\n",
       "4   Iran-Contra      NOUN"
      ]
     },
     "metadata": {},
     "output_type": "display_data"
    },
    {
     "name": "stdout",
     "output_type": "stream",
     "text": [
      "\n",
      "Time taken in (seconds):  18.34359312057495\n",
      "\n",
      "accuracy:  0.9619047619047619\n",
      "\n",
      "Incorrect tagged \n",
      "\n",
      "[(('matters', 'NOUN'), ('matters', 'VERB')),\n",
      " (('fine', 'NOUN'), ('fine', 'ADV')),\n",
      " (('yen-support', 'NOUN'), ('yen-support', 'ADJ')),\n",
      " (('150.00', 'NOUN'), ('150.00', 'NUM'))]\n"
     ]
    },
    {
     "data": {
      "text/html": [
       "<div>\n",
       "<style scoped>\n",
       "    .dataframe tbody tr th:only-of-type {\n",
       "        vertical-align: middle;\n",
       "    }\n",
       "\n",
       "    .dataframe tbody tr th {\n",
       "        vertical-align: top;\n",
       "    }\n",
       "\n",
       "    .dataframe thead th {\n",
       "        text-align: right;\n",
       "    }\n",
       "</style>\n",
       "<table border=\"1\" class=\"dataframe\">\n",
       "  <thead>\n",
       "    <tr style=\"text-align: right;\">\n",
       "      <th></th>\n",
       "      <th>tagger</th>\n",
       "      <th>accuracy</th>\n",
       "      <th>incorrect_tagged</th>\n",
       "    </tr>\n",
       "  </thead>\n",
       "  <tbody>\n",
       "    <tr>\n",
       "      <td>0</td>\n",
       "      <td>viterbi_modified_overall_pos_distribution</td>\n",
       "      <td>96.1905</td>\n",
       "      <td>4</td>\n",
       "    </tr>\n",
       "  </tbody>\n",
       "</table>\n",
       "</div>"
      ],
      "text/plain": [
       "                                      tagger  accuracy  incorrect_tagged\n",
       "0  viterbi_modified_overall_pos_distribution   96.1905                 4"
      ]
     },
     "execution_count": 88,
     "metadata": {},
     "output_type": "execute_result"
    }
   ],
   "source": [
    "df = run_and_get_accuracies(viterbi_modified_overall_pos_distribution)\n",
    "tagger_metrics = pd.concat([tagger_metrics,df],axis=0)\n",
    "df"
   ]
  },
  {
   "cell_type": "markdown",
   "metadata": {},
   "source": [
    "## Regex Based Tagger"
   ]
  },
  {
   "cell_type": "markdown",
   "metadata": {},
   "source": [
    "Here we will use regex based tagger as the fall back to identify the tags of the unknown words."
   ]
  },
  {
   "cell_type": "code",
   "execution_count": 89,
   "metadata": {},
   "outputs": [],
   "source": [
    "# From https://www.nltk.org/book/ch05.html\n",
    "\n",
    "patterns = [\n",
    "    (r'.*ing$', 'VERB'),              # gerund\n",
    "    (r'.*ed$', 'VERB'),               # past tense \n",
    "    (r'.*es$', 'VERB'),               # verb \n",
    "    (r'.*able$', 'ADJ'),               # adjective \n",
    "    (r'.*ful$', 'ADJ'),\n",
    "    (r'.*ous$', 'ADJ'),\n",
    "    (r'.*est$', 'ADJ'),\n",
    "    (r'.*lly$', 'ADV'),\n",
    "    (r'.*\\'s$', 'NOUN'),              # possessive nouns\n",
    "    (r'.*s$', 'NOUN'),                # plural nouns\n",
    "    (r'.*ould$', 'X'),                # modals\n",
    "    (r'\\*T?\\*?-[0-9]+$', 'X'),        # X\n",
    "    (r'^-?[0-9]+(.[0-9]+)?$', 'NUM'), # cardinal numbers\n",
    "    (r'.*', 'NOUN')                 # nouns\n",
    "]\n",
    "# rule based tagger\n",
    "rule_based_tagger = nltk.RegexpTagger(patterns)"
   ]
  },
  {
   "cell_type": "code",
   "execution_count": 90,
   "metadata": {},
   "outputs": [],
   "source": [
    "def viterbi_modified_regex(words, train_bag=train_tagged_words,verbose = True):\n",
    "    state = []\n",
    "    T = list(set([pair[1] for pair in train_bag]))\n",
    "    unknown_words = []\n",
    "\n",
    "    for key, word in enumerate(words):\n",
    "        # initialise list of probability column for a given observation\n",
    "        p = []\n",
    "        for tag in T:\n",
    "            if key == 0:\n",
    "                transition_p = tags_df.loc['.', tag]\n",
    "            else:\n",
    "                transition_p = tags_df.loc[state[-1], tag]\n",
    "\n",
    "            # compute emission and state probabilities\n",
    "            emission_p = word_given_tag(words[key], tag)[0] / word_given_tag(\n",
    "                words[key], tag)[1]\n",
    "            state_probability = emission_p * transition_p\n",
    "            p.append(state_probability)\n",
    "\n",
    "        pmax = max(p)\n",
    "        if pmax == 0:\n",
    "            state_max = rule_based_tagger.tag([word])[0][1]\n",
    "            unknown_words.append({\n",
    "                \"word\": word,\n",
    "                \"mapped_to\": state_max\n",
    "            })\n",
    "        else:\n",
    "            # getting state for which probability is maximum\n",
    "            state_max = T[p.index(pmax)]\n",
    "        state.append(state_max)\n",
    "    if verbose:\n",
    "        print(\"\\nUnknown words:\")\n",
    "        display(pd.DataFrame.from_records(unknown_words))\n",
    "    return list(zip(words, state))"
   ]
  },
  {
   "cell_type": "markdown",
   "metadata": {},
   "source": [
    "#### Evaluating tagging accuracy"
   ]
  },
  {
   "cell_type": "code",
   "execution_count": 91,
   "metadata": {
    "scrolled": false
   },
   "outputs": [
    {
     "name": "stdout",
     "output_type": "stream",
     "text": [
      "Sample Sentences \n",
      "\n",
      "[[('Most', 'ADJ'),\n",
      "  ('in', 'ADP'),\n",
      "  ('demand', 'NOUN'),\n",
      "  (':', '.'),\n",
      "  ('classic', 'ADJ'),\n",
      "  ('photographs', 'NOUN'),\n",
      "  ('by', 'ADP'),\n",
      "  ('masters', 'NOUN'),\n",
      "  ('such', 'ADJ'),\n",
      "  ('as', 'ADP'),\n",
      "  ('Stieglitz', 'NOUN'),\n",
      "  ('and', 'CONJ'),\n",
      "  ('Man', 'NOUN'),\n",
      "  ('Ray', 'NOUN'),\n",
      "  ('.', '.')],\n",
      " [('``', '.'),\n",
      "  ('What', 'PRON'),\n",
      "  ('*T*-14', 'X'),\n",
      "  ('matters', 'VERB'),\n",
      "  ('is', 'VERB'),\n",
      "  ('what', 'PRON'),\n",
      "  ('advertisers', 'NOUN'),\n",
      "  ('are', 'VERB'),\n",
      "  ('paying', 'VERB'),\n",
      "  ('*T*-15', 'X'),\n",
      "  ('per', 'ADP'),\n",
      "  ('page', 'NOUN'),\n",
      "  (',', '.'),\n",
      "  ('and', 'CONJ'),\n",
      "  ('in', 'ADP'),\n",
      "  ('that', 'DET'),\n",
      "  ('department', 'NOUN'),\n",
      "  ('we', 'PRON'),\n",
      "  ('are', 'VERB'),\n",
      "  ('doing', 'VERB'),\n",
      "  ('fine', 'ADV'),\n",
      "  ('this', 'DET'),\n",
      "  ('fall', 'NOUN'),\n",
      "  (',', '.'),\n",
      "  (\"''\", '.'),\n",
      "  ('said', 'VERB'),\n",
      "  ('*T*-1', 'X'),\n",
      "  ('Mr.', 'NOUN'),\n",
      "  ('Spoon', 'NOUN'),\n",
      "  ('.', '.')],\n",
      " [('But', 'CONJ'),\n",
      "  ('the', 'DET'),\n",
      "  ('Army', 'NOUN'),\n",
      "  ('Corps', 'NOUN'),\n",
      "  ('of', 'ADP'),\n",
      "  ('Engineers', 'NOUN'),\n",
      "  ('expects', 'VERB'),\n",
      "  ('the', 'DET'),\n",
      "  ('river', 'NOUN'),\n",
      "  ('level', 'NOUN'),\n",
      "  ('to', 'PRT'),\n",
      "  ('continue', 'VERB'),\n",
      "  ('*-1', 'X'),\n",
      "  ('falling', 'VERB'),\n",
      "  ('this', 'DET'),\n",
      "  ('month', 'NOUN'),\n",
      "  ('.', '.')],\n",
      " [('The', 'DET'),\n",
      "  ('protracted', 'ADJ'),\n",
      "  ('downturn', 'NOUN'),\n",
      "  ('reflects', 'VERB'),\n",
      "  ('the', 'DET'),\n",
      "  ('intensity', 'NOUN'),\n",
      "  ('of', 'ADP'),\n",
      "  ('Bank', 'NOUN'),\n",
      "  ('of', 'ADP'),\n",
      "  ('Japan', 'NOUN'),\n",
      "  ('yen-support', 'ADJ'),\n",
      "  ('intervention', 'NOUN'),\n",
      "  ('since', 'ADP'),\n",
      "  ('June', 'NOUN'),\n",
      "  (',', '.'),\n",
      "  ('when', 'ADV'),\n",
      "  ('the', 'DET'),\n",
      "  ('U.S.', 'NOUN'),\n",
      "  ('currency', 'NOUN'),\n",
      "  ('temporarily', 'ADV'),\n",
      "  ('surged', 'VERB'),\n",
      "  ('above', 'ADP'),\n",
      "  ('the', 'DET'),\n",
      "  ('150.00', 'NUM'),\n",
      "  ('yen', 'NOUN'),\n",
      "  ('level', 'NOUN'),\n",
      "  ('*T*-1', 'X'),\n",
      "  ('.', '.')]]\n",
      "\n",
      "Unknown words:\n"
     ]
    },
    {
     "data": {
      "text/html": [
       "<div>\n",
       "<style scoped>\n",
       "    .dataframe tbody tr th:only-of-type {\n",
       "        vertical-align: middle;\n",
       "    }\n",
       "\n",
       "    .dataframe tbody tr th {\n",
       "        vertical-align: top;\n",
       "    }\n",
       "\n",
       "    .dataframe thead th {\n",
       "        text-align: right;\n",
       "    }\n",
       "</style>\n",
       "<table border=\"1\" class=\"dataframe\">\n",
       "  <thead>\n",
       "    <tr style=\"text-align: right;\">\n",
       "      <th></th>\n",
       "      <th>word</th>\n",
       "      <th>mapped_to</th>\n",
       "    </tr>\n",
       "  </thead>\n",
       "  <tbody>\n",
       "    <tr>\n",
       "      <td>0</td>\n",
       "      <td>masters</td>\n",
       "      <td>NOUN</td>\n",
       "    </tr>\n",
       "    <tr>\n",
       "      <td>1</td>\n",
       "      <td>yen-support</td>\n",
       "      <td>NOUN</td>\n",
       "    </tr>\n",
       "    <tr>\n",
       "      <td>2</td>\n",
       "      <td>intervention</td>\n",
       "      <td>NOUN</td>\n",
       "    </tr>\n",
       "    <tr>\n",
       "      <td>3</td>\n",
       "      <td>150.00</td>\n",
       "      <td>NUM</td>\n",
       "    </tr>\n",
       "    <tr>\n",
       "      <td>4</td>\n",
       "      <td>Iran-Contra</td>\n",
       "      <td>NOUN</td>\n",
       "    </tr>\n",
       "  </tbody>\n",
       "</table>\n",
       "</div>"
      ],
      "text/plain": [
       "           word mapped_to\n",
       "0       masters      NOUN\n",
       "1   yen-support      NOUN\n",
       "2  intervention      NOUN\n",
       "3        150.00       NUM\n",
       "4   Iran-Contra      NOUN"
      ]
     },
     "metadata": {},
     "output_type": "display_data"
    },
    {
     "name": "stdout",
     "output_type": "stream",
     "text": [
      "\n",
      "Time taken in (seconds):  18.406656980514526\n",
      "\n",
      "accuracy:  0.9714285714285714\n",
      "\n",
      "Incorrect tagged \n",
      "\n",
      "[(('matters', 'NOUN'), ('matters', 'VERB')),\n",
      " (('fine', 'NOUN'), ('fine', 'ADV')),\n",
      " (('yen-support', 'NOUN'), ('yen-support', 'ADJ'))]\n"
     ]
    },
    {
     "data": {
      "text/html": [
       "<div>\n",
       "<style scoped>\n",
       "    .dataframe tbody tr th:only-of-type {\n",
       "        vertical-align: middle;\n",
       "    }\n",
       "\n",
       "    .dataframe tbody tr th {\n",
       "        vertical-align: top;\n",
       "    }\n",
       "\n",
       "    .dataframe thead th {\n",
       "        text-align: right;\n",
       "    }\n",
       "</style>\n",
       "<table border=\"1\" class=\"dataframe\">\n",
       "  <thead>\n",
       "    <tr style=\"text-align: right;\">\n",
       "      <th></th>\n",
       "      <th>tagger</th>\n",
       "      <th>accuracy</th>\n",
       "      <th>incorrect_tagged</th>\n",
       "    </tr>\n",
       "  </thead>\n",
       "  <tbody>\n",
       "    <tr>\n",
       "      <td>0</td>\n",
       "      <td>viterbi_modified_regex</td>\n",
       "      <td>97.1429</td>\n",
       "      <td>3</td>\n",
       "    </tr>\n",
       "  </tbody>\n",
       "</table>\n",
       "</div>"
      ],
      "text/plain": [
       "                   tagger  accuracy  incorrect_tagged\n",
       "0  viterbi_modified_regex   97.1429                 3"
      ]
     },
     "execution_count": 91,
     "metadata": {},
     "output_type": "execute_result"
    }
   ],
   "source": [
    "df = run_and_get_accuracies(viterbi_modified_regex)\n",
    "tagger_metrics = pd.concat([tagger_metrics,df],axis=0)\n",
    "df"
   ]
  },
  {
   "cell_type": "markdown",
   "metadata": {},
   "source": [
    "## Mapping words to pseudo words"
   ]
  },
  {
   "cell_type": "markdown",
   "metadata": {},
   "source": [
    "Here we are following the approach suggested in the paper http://www.cs.columbia.edu/~mcollins/hmms-spring2013.pdf. We will map the words to a class of pseudo words so that the unknown words can also be mapped to these pseudo words and then we will use the probability distribution for these pseudo words to figure the tag for the unknown word.\n",
    "\n",
    "|Word class| Example |Intuition|\n",
    "|----------|---------|---------|\n",
    "|twoDigitNum|90|Two digit year|\n",
    "|fourDigitNum|1990|Four digit year|\n",
    "|containsDigitAndAlpha|A8956-67|Product code|\n",
    "|containsDigitAndDash|09-96|Date|\n",
    "|containsDigitAndSlash|11/9/89|Date|\n",
    "|containsDigitAndComma|23,000.00|Monetary amount|\n",
    "|containsDigitAndPeriod|1.00|Monetary amount,percentage|\n",
    "|othernum|456789|Other number|\n",
    "|allCaps|BBN|Organization|\n",
    "|capPeriod|M.|Person name initial|\n",
    "|initCap|Sally|Capitalized word|\n",
    "|lowercase|can|Uncapitalized word|\n",
    "|other|,Punctuation |marks ,    all   otherwords|"
   ]
  },
  {
   "cell_type": "code",
   "execution_count": 92,
   "metadata": {},
   "outputs": [],
   "source": [
    "import re\n",
    "def map_pseudo_word(word):\n",
    "    pseudo_word = \"\"\n",
    "    if word.isdigit() and len(word)==2:\n",
    "        pseudo_word = \"twoDigitNum\"\n",
    "    elif word.isdigit() and len(word)==4:\n",
    "        pseudo_word = \"fourDigitNum\"\n",
    "    elif re.match(\"^[A-Za-z]+[0-9]+\\-.*$\", word):\n",
    "        pseudo_word = \"containsDigitAndAlpha\"\n",
    "    elif re.match(\"^[0-9]+\\-[0-9]+$\", word):\n",
    "        pseudo_word = \"containsDigitAndDash\"\n",
    "    elif re.match(\"^[0-9]+\\\\\\[0-9]+\\\\\\[0-9]+$\", word) or re.match(\"^[0-9]+/[0-9]+/[0-9]+$\", word):\n",
    "        pseudo_word = \"containsDigitAndSlash\"\n",
    "    elif re.match(\"^[+-]?[0-9]+,[0-9]+.*$\", word):\n",
    "        pseudo_word = \"containsDigitAndComma\"\n",
    "    elif re.match(\"^[+-]?[0-9]+\\.[0-9]+$\", word):\n",
    "        pseudo_word = \"containsDigitAndPeriod\"\n",
    "    elif re.match(\"^[0-9]+$\", word):\n",
    "        pseudo_word = \"othernum\"\n",
    "    elif re.match(\"^[A-Z]+$\", word):\n",
    "        pseudo_word = \"allCaps\"\n",
    "    elif re.match(\"^[A-Z]+\\.$\", word):\n",
    "        pseudo_word = \"capPeriod\"\n",
    "    elif word.istitle():\n",
    "        pseudo_word = \"initCap\"\n",
    "    elif re.match(\"^[a-z]+$\", word):\n",
    "        pseudo_word = \"lowercase\"\n",
    "    else:\n",
    "        pseudo_word = \"other\"\n",
    "    return pseudo_word\n"
   ]
  },
  {
   "cell_type": "code",
   "execution_count": 93,
   "metadata": {
    "tags": [
     "outputPrepend"
    ]
   },
   "outputs": [
    {
     "name": "stdout",
     "output_type": "stream",
     "text": [
      "defaultdict(<class 'list'>,\n",
      "            {'allCaps': Counter({'NOUN': 0.6415384615384615,\n",
      "                                 'PRON': 0.16307692307692306,\n",
      "                                 'DET': 0.15692307692307692,\n",
      "                                 'VERB': 0.015384615384615385,\n",
      "                                 'ADJ': 0.007692307692307693,\n",
      "                                 'NUM': 0.006153846153846154,\n",
      "                                 'ADP': 0.004615384615384616,\n",
      "                                 'ADV': 0.0015384615384615385,\n",
      "                                 'X': 0.0015384615384615385,\n",
      "                                 'PRT': 0.0015384615384615385}),\n",
      "             'capPeriod': Counter({'NOUN': 1.0}),\n",
      "             'containsDigitAndComma': Counter({'NUM': 0.9900990099009901,\n",
      "                                               'ADJ': 0.009900990099009901}),\n",
      "             'containsDigitAndDash': Counter({'NUM': 1.0}),\n",
      "             'containsDigitAndPeriod': Counter({'NUM': 1.0}),\n",
      "             'fourDigitNum': Counter({'NUM': 0.9968944099378882,\n",
      "                                      'ADJ': 0.003105590062111801}),\n",
      "             'initCap': Counter({'NOUN': 0.6428215176344853,\n",
      "                                 'X': 0.15924474527965798,\n",
      "                                 'DET': 0.06469540434627716,\n",
      "                                 'ADP': 0.03690773067331671,\n",
      "                                 'ADJ': 0.02828642679016744,\n",
      "                                 'PRON': 0.025151407196294977,\n",
      "                                 'ADV': 0.016458852867830425,\n",
      "                                 'CONJ': 0.014107588172426078,\n",
      "                                 'VERB': 0.008763804773779835,\n",
      "                                 'NUM': 0.002280014250089063,\n",
      "                                 'PRT': 0.0010687566797292483,\n",
      "                                 '.': 0.00021375133594584965}),\n",
      "             'lowercase': Counter({'NOUN': 0.2833080124182575,\n",
      "                                   'VERB': 0.20846819472884603,\n",
      "                                   'ADP': 0.1471365347777264,\n",
      "                                   'DET': 0.120681683070216,\n",
      "                                   'ADJ': 0.08151132835722306,\n",
      "                                   'ADV': 0.04055750049540921,\n",
      "                                   'PRT': 0.037238258801770265,\n",
      "                                   'PRON': 0.035520840214016774,\n",
      "                                   'CONJ': 0.03094656186009644,\n",
      "                                   'NUM': 0.014548517075104036,\n",
      "                                   'X': 8.256820133430213e-05}),\n",
      "             'other': Counter({'.': 0.6477596327076189,\n",
      "                               'X': 0.174638228627884,\n",
      "                               'NOUN': 0.04649270645667461,\n",
      "                               'PRT': 0.04515604114604521,\n",
      "                               'ADJ': 0.04440053466612425,\n",
      "                               'ADV': 0.01836461905038647,\n",
      "                               'VERB': 0.009414773057476608,\n",
      "                               'NUM': 0.00871738246062649,\n",
      "                               'CONJ': 0.004939850061021677,\n",
      "                               'ADP': 0.00011623176614168653}),\n",
      "             'othernum': Counter({'X': 0.6819650937297996,\n",
      "                                  'NUM': 0.31803490627020037}),\n",
      "             'twoDigitNum': Counter({'NUM': 1.0})})\n"
     ]
    }
   ],
   "source": [
    "from collections import Counter\n",
    "from collections import defaultdict\n",
    "pseudo_words_with_tags = [(map_pseudo_word(pair[0]), pair[1])\n",
    "                          for pair in train_tagged_words]\n",
    "dd = defaultdict(list)\n",
    "for t in pseudo_words_with_tags:\n",
    "    dd[t[0]].append(t[1])\n",
    "\n",
    "for k in dd.keys():\n",
    "    d = Counter(dd[k])\n",
    "    tags_count = sum(d.values())\n",
    "    for tk in d.keys():\n",
    "        d[tk] = d[tk] / tags_count\n",
    "    dd[k] = d\n",
    "\n",
    "pprint.pprint(dd)"
   ]
  },
  {
   "cell_type": "code",
   "execution_count": 94,
   "metadata": {},
   "outputs": [],
   "source": [
    "def viterbi_modified_pseudo_mapped_words(words, train_bag=train_tagged_words):\n",
    "    state = []\n",
    "    T = list(set([pair[1] for pair in train_bag]))\n",
    "    unknown_words = []\n",
    "    for key, word in enumerate(words):\n",
    "        # initialise list of probability column for a given observation\n",
    "        p = []\n",
    "        p_trans = []\n",
    "        for tag in T:\n",
    "            if key == 0:\n",
    "                transition_p = tags_df.loc['.', tag]\n",
    "            else:\n",
    "                transition_p = tags_df.loc[state[-1], tag]\n",
    "\n",
    "            # compute emission and state probabilities\n",
    "            emission_p = word_given_tag(words[key], tag)[0] / word_given_tag(\n",
    "                words[key], tag)[1]\n",
    "            state_probability = emission_p * transition_p\n",
    "            p.append(state_probability)\n",
    "            p_trans.append(dd.get(map_pseudo_word(\n",
    "                word)).get(tag, 0) * transition_p)\n",
    "\n",
    "        pmax = max(p)\n",
    "        if pmax == 0:\n",
    "            pmax = max(p_trans)\n",
    "            state_max = T[p_trans.index(pmax)]\n",
    "            unknown_words.append({\n",
    "                \"word\": word,\n",
    "                \"mapped_to\": state_max\n",
    "            })\n",
    "        else:\n",
    "            # getting state for which probability is maximum\n",
    "            state_max = T[p.index(pmax)]\n",
    "        state.append(state_max)\n",
    "    print(\"\\nUnknown words:\")\n",
    "    display(pd.DataFrame.from_records(unknown_words))\n",
    "    return list(zip(words, state))"
   ]
  },
  {
   "cell_type": "markdown",
   "metadata": {},
   "source": [
    "#### Evaluating tagging accuracy"
   ]
  },
  {
   "cell_type": "code",
   "execution_count": 95,
   "metadata": {},
   "outputs": [
    {
     "name": "stdout",
     "output_type": "stream",
     "text": [
      "Sample Sentences \n",
      "\n",
      "[[('Most', 'ADJ'),\n",
      "  ('in', 'ADP'),\n",
      "  ('demand', 'NOUN'),\n",
      "  (':', '.'),\n",
      "  ('classic', 'ADJ'),\n",
      "  ('photographs', 'NOUN'),\n",
      "  ('by', 'ADP'),\n",
      "  ('masters', 'NOUN'),\n",
      "  ('such', 'ADJ'),\n",
      "  ('as', 'ADP'),\n",
      "  ('Stieglitz', 'NOUN'),\n",
      "  ('and', 'CONJ'),\n",
      "  ('Man', 'NOUN'),\n",
      "  ('Ray', 'NOUN'),\n",
      "  ('.', '.')],\n",
      " [('``', '.'),\n",
      "  ('What', 'PRON'),\n",
      "  ('*T*-14', 'X'),\n",
      "  ('matters', 'VERB'),\n",
      "  ('is', 'VERB'),\n",
      "  ('what', 'PRON'),\n",
      "  ('advertisers', 'NOUN'),\n",
      "  ('are', 'VERB'),\n",
      "  ('paying', 'VERB'),\n",
      "  ('*T*-15', 'X'),\n",
      "  ('per', 'ADP'),\n",
      "  ('page', 'NOUN'),\n",
      "  (',', '.'),\n",
      "  ('and', 'CONJ'),\n",
      "  ('in', 'ADP'),\n",
      "  ('that', 'DET'),\n",
      "  ('department', 'NOUN'),\n",
      "  ('we', 'PRON'),\n",
      "  ('are', 'VERB'),\n",
      "  ('doing', 'VERB'),\n",
      "  ('fine', 'ADV'),\n",
      "  ('this', 'DET'),\n",
      "  ('fall', 'NOUN'),\n",
      "  (',', '.'),\n",
      "  (\"''\", '.'),\n",
      "  ('said', 'VERB'),\n",
      "  ('*T*-1', 'X'),\n",
      "  ('Mr.', 'NOUN'),\n",
      "  ('Spoon', 'NOUN'),\n",
      "  ('.', '.')],\n",
      " [('But', 'CONJ'),\n",
      "  ('the', 'DET'),\n",
      "  ('Army', 'NOUN'),\n",
      "  ('Corps', 'NOUN'),\n",
      "  ('of', 'ADP'),\n",
      "  ('Engineers', 'NOUN'),\n",
      "  ('expects', 'VERB'),\n",
      "  ('the', 'DET'),\n",
      "  ('river', 'NOUN'),\n",
      "  ('level', 'NOUN'),\n",
      "  ('to', 'PRT'),\n",
      "  ('continue', 'VERB'),\n",
      "  ('*-1', 'X'),\n",
      "  ('falling', 'VERB'),\n",
      "  ('this', 'DET'),\n",
      "  ('month', 'NOUN'),\n",
      "  ('.', '.')],\n",
      " [('The', 'DET'),\n",
      "  ('protracted', 'ADJ'),\n",
      "  ('downturn', 'NOUN'),\n",
      "  ('reflects', 'VERB'),\n",
      "  ('the', 'DET'),\n",
      "  ('intensity', 'NOUN'),\n",
      "  ('of', 'ADP'),\n",
      "  ('Bank', 'NOUN'),\n",
      "  ('of', 'ADP'),\n",
      "  ('Japan', 'NOUN'),\n",
      "  ('yen-support', 'ADJ'),\n",
      "  ('intervention', 'NOUN'),\n",
      "  ('since', 'ADP'),\n",
      "  ('June', 'NOUN'),\n",
      "  (',', '.'),\n",
      "  ('when', 'ADV'),\n",
      "  ('the', 'DET'),\n",
      "  ('U.S.', 'NOUN'),\n",
      "  ('currency', 'NOUN'),\n",
      "  ('temporarily', 'ADV'),\n",
      "  ('surged', 'VERB'),\n",
      "  ('above', 'ADP'),\n",
      "  ('the', 'DET'),\n",
      "  ('150.00', 'NUM'),\n",
      "  ('yen', 'NOUN'),\n",
      "  ('level', 'NOUN'),\n",
      "  ('*T*-1', 'X'),\n",
      "  ('.', '.')]]\n",
      "\n",
      "Unknown words:\n"
     ]
    },
    {
     "data": {
      "text/html": [
       "<div>\n",
       "<style scoped>\n",
       "    .dataframe tbody tr th:only-of-type {\n",
       "        vertical-align: middle;\n",
       "    }\n",
       "\n",
       "    .dataframe tbody tr th {\n",
       "        vertical-align: top;\n",
       "    }\n",
       "\n",
       "    .dataframe thead th {\n",
       "        text-align: right;\n",
       "    }\n",
       "</style>\n",
       "<table border=\"1\" class=\"dataframe\">\n",
       "  <thead>\n",
       "    <tr style=\"text-align: right;\">\n",
       "      <th></th>\n",
       "      <th>word</th>\n",
       "      <th>mapped_to</th>\n",
       "    </tr>\n",
       "  </thead>\n",
       "  <tbody>\n",
       "    <tr>\n",
       "      <td>0</td>\n",
       "      <td>masters</td>\n",
       "      <td>NOUN</td>\n",
       "    </tr>\n",
       "    <tr>\n",
       "      <td>1</td>\n",
       "      <td>yen-support</td>\n",
       "      <td>.</td>\n",
       "    </tr>\n",
       "    <tr>\n",
       "      <td>2</td>\n",
       "      <td>intervention</td>\n",
       "      <td>NOUN</td>\n",
       "    </tr>\n",
       "    <tr>\n",
       "      <td>3</td>\n",
       "      <td>150.00</td>\n",
       "      <td>NUM</td>\n",
       "    </tr>\n",
       "    <tr>\n",
       "      <td>4</td>\n",
       "      <td>Iran-Contra</td>\n",
       "      <td>NOUN</td>\n",
       "    </tr>\n",
       "  </tbody>\n",
       "</table>\n",
       "</div>"
      ],
      "text/plain": [
       "           word mapped_to\n",
       "0       masters      NOUN\n",
       "1   yen-support         .\n",
       "2  intervention      NOUN\n",
       "3        150.00       NUM\n",
       "4   Iran-Contra      NOUN"
      ]
     },
     "metadata": {},
     "output_type": "display_data"
    },
    {
     "name": "stdout",
     "output_type": "stream",
     "text": [
      "\n",
      "Time taken in (seconds):  18.5589120388031\n",
      "\n",
      "accuracy:  0.9714285714285714\n",
      "\n",
      "Incorrect tagged \n",
      "\n",
      "[(('matters', 'NOUN'), ('matters', 'VERB')),\n",
      " (('fine', 'NOUN'), ('fine', 'ADV')),\n",
      " (('yen-support', '.'), ('yen-support', 'ADJ'))]\n"
     ]
    },
    {
     "data": {
      "text/html": [
       "<div>\n",
       "<style scoped>\n",
       "    .dataframe tbody tr th:only-of-type {\n",
       "        vertical-align: middle;\n",
       "    }\n",
       "\n",
       "    .dataframe tbody tr th {\n",
       "        vertical-align: top;\n",
       "    }\n",
       "\n",
       "    .dataframe thead th {\n",
       "        text-align: right;\n",
       "    }\n",
       "</style>\n",
       "<table border=\"1\" class=\"dataframe\">\n",
       "  <thead>\n",
       "    <tr style=\"text-align: right;\">\n",
       "      <th></th>\n",
       "      <th>tagger</th>\n",
       "      <th>accuracy</th>\n",
       "      <th>incorrect_tagged</th>\n",
       "    </tr>\n",
       "  </thead>\n",
       "  <tbody>\n",
       "    <tr>\n",
       "      <td>0</td>\n",
       "      <td>viterbi_modified_pseudo_mapped_words</td>\n",
       "      <td>97.1429</td>\n",
       "      <td>3</td>\n",
       "    </tr>\n",
       "  </tbody>\n",
       "</table>\n",
       "</div>"
      ],
      "text/plain": [
       "                                 tagger  accuracy  incorrect_tagged\n",
       "0  viterbi_modified_pseudo_mapped_words   97.1429                 3"
      ]
     },
     "execution_count": 95,
     "metadata": {},
     "output_type": "execute_result"
    }
   ],
   "source": [
    "df = run_and_get_accuracies(viterbi_modified_pseudo_mapped_words)\n",
    "tagger_metrics = pd.concat([tagger_metrics,df],axis=0)\n",
    "df"
   ]
  },
  {
   "cell_type": "markdown",
   "metadata": {},
   "source": [
    "### Compare the tagging accuracies of the modifications with the vanilla Viterbi algorithm"
   ]
  },
  {
   "cell_type": "code",
   "execution_count": 96,
   "metadata": {},
   "outputs": [
    {
     "data": {
      "text/html": [
       "<div>\n",
       "<style scoped>\n",
       "    .dataframe tbody tr th:only-of-type {\n",
       "        vertical-align: middle;\n",
       "    }\n",
       "\n",
       "    .dataframe tbody tr th {\n",
       "        vertical-align: top;\n",
       "    }\n",
       "\n",
       "    .dataframe thead th {\n",
       "        text-align: right;\n",
       "    }\n",
       "</style>\n",
       "<table border=\"1\" class=\"dataframe\">\n",
       "  <thead>\n",
       "    <tr style=\"text-align: right;\">\n",
       "      <th></th>\n",
       "      <th>tagger</th>\n",
       "      <th>accuracy</th>\n",
       "      <th>incorrect_tagged</th>\n",
       "    </tr>\n",
       "  </thead>\n",
       "  <tbody>\n",
       "    <tr>\n",
       "      <td>0</td>\n",
       "      <td>viterbi_modified_regex</td>\n",
       "      <td>97.1429</td>\n",
       "      <td>3</td>\n",
       "    </tr>\n",
       "    <tr>\n",
       "      <td>0</td>\n",
       "      <td>viterbi_modified_pseudo_mapped_words</td>\n",
       "      <td>97.1429</td>\n",
       "      <td>3</td>\n",
       "    </tr>\n",
       "    <tr>\n",
       "      <td>0</td>\n",
       "      <td>viterbi_modified_most_probable_pos_tag</td>\n",
       "      <td>96.1905</td>\n",
       "      <td>4</td>\n",
       "    </tr>\n",
       "    <tr>\n",
       "      <td>0</td>\n",
       "      <td>viterbi_modified_overall_pos_distribution</td>\n",
       "      <td>96.1905</td>\n",
       "      <td>4</td>\n",
       "    </tr>\n",
       "    <tr>\n",
       "      <td>0</td>\n",
       "      <td>viterbi_vanilla</td>\n",
       "      <td>94.2857</td>\n",
       "      <td>6</td>\n",
       "    </tr>\n",
       "  </tbody>\n",
       "</table>\n",
       "</div>"
      ],
      "text/plain": [
       "                                      tagger  accuracy  incorrect_tagged\n",
       "0                     viterbi_modified_regex   97.1429                 3\n",
       "0       viterbi_modified_pseudo_mapped_words   97.1429                 3\n",
       "0     viterbi_modified_most_probable_pos_tag   96.1905                 4\n",
       "0  viterbi_modified_overall_pos_distribution   96.1905                 4\n",
       "0                            viterbi_vanilla   94.2857                 6"
      ]
     },
     "execution_count": 96,
     "metadata": {},
     "output_type": "execute_result"
    }
   ],
   "source": [
    "tagger_metrics = tagger_metrics.sort_values(by='accuracy', ascending=False)\n",
    "tagger_metrics\n"
   ]
  },
  {
   "cell_type": "code",
   "execution_count": 97,
   "metadata": {},
   "outputs": [
    {
     "data": {
      "image/png": "[encoded data removed]",
      "text/plain": [
       "<Figure size 576x360 with 1 Axes>"
      ]
     },
     "metadata": {
      "image/png": {
       "height": 527,
       "width": 504
      }
     },
     "output_type": "display_data"
    }
   ],
   "source": [
    "sns.set(rc={'figure.figsize': (8, 5)})\n",
    "sns.barplot(tagger_metrics['tagger'],\n",
    "            tagger_metrics['accuracy'],\n",
    "            palette='Oranges_d')\n",
    "plt.xticks(rotation=90, horizontalalignment=\"center\")\n",
    "plt.title(\"Tagger accuracy\")\n",
    "plt.xlabel(\"Tagger\")\n",
    "plt.ylabel(\"Accuracy\")\n",
    "plt.show()"
   ]
  },
  {
   "cell_type": "markdown",
   "metadata": {},
   "source": [
    "### List down cases which were incorrectly tagged by original POS tagger and got corrected by your modifications"
   ]
  },
  {
   "cell_type": "code",
   "execution_count": 98,
   "metadata": {},
   "outputs": [],
   "source": [
    "def compare_tagger(sentence, tagger1 = viterbi_vanilla, tagger2=viterbi_modified_regex):\n",
    "    words = word_tokenize(sentence)\n",
    "    tagger1_result = tagger1(words)\n",
    "    tagger2_result = tagger2(words,verbose = False)\n",
    "    \n",
    "    difference = [{\n",
    "        'word':i[0],\n",
    "        'viterbi_vanilla':i[1],\n",
    "        'viterbi_modified_regex':j[1]\n",
    "    } for i, j in zip(tagger1_result, tagger2_result) if i != j]\n",
    "    return pd.DataFrame.from_records(difference)    "
   ]
  },
  {
   "cell_type": "code",
   "execution_count": 99,
   "metadata": {},
   "outputs": [],
   "source": [
    "sentences = [\n",
    "    \"Android is a mobile operating system developed by Google.\",\n",
    "    \"Google and Twitter made a deal in 2015 that gave Google access to Twitter's firehose.\",\n",
    "    \"The 2018 FIFA World Cup is the 21st FIFA World Cup, an international football tournament contested once every four years.\",\n",
    "    \"NASA invited social media users to experience the launch of ICESAT-2 Satellite.\"\n",
    "]"
   ]
  },
  {
   "cell_type": "code",
   "execution_count": 100,
   "metadata": {},
   "outputs": [
    {
     "name": "stdout",
     "output_type": "stream",
     "text": [
      "\n",
      "For sentence:  Android is a mobile operating system developed by Google.\n"
     ]
    },
    {
     "data": {
      "text/html": [
       "<div>\n",
       "<style scoped>\n",
       "    .dataframe tbody tr th:only-of-type {\n",
       "        vertical-align: middle;\n",
       "    }\n",
       "\n",
       "    .dataframe tbody tr th {\n",
       "        vertical-align: top;\n",
       "    }\n",
       "\n",
       "    .dataframe thead th {\n",
       "        text-align: right;\n",
       "    }\n",
       "</style>\n",
       "<table border=\"1\" class=\"dataframe\">\n",
       "  <thead>\n",
       "    <tr style=\"text-align: right;\">\n",
       "      <th></th>\n",
       "      <th>word</th>\n",
       "      <th>viterbi_vanilla</th>\n",
       "      <th>viterbi_modified_regex</th>\n",
       "    </tr>\n",
       "  </thead>\n",
       "  <tbody>\n",
       "    <tr>\n",
       "      <td>0</td>\n",
       "      <td>Android</td>\n",
       "      <td>NUM</td>\n",
       "      <td>NOUN</td>\n",
       "    </tr>\n",
       "    <tr>\n",
       "      <td>1</td>\n",
       "      <td>Google</td>\n",
       "      <td>NUM</td>\n",
       "      <td>NOUN</td>\n",
       "    </tr>\n",
       "  </tbody>\n",
       "</table>\n",
       "</div>"
      ],
      "text/plain": [
       "      word viterbi_vanilla viterbi_modified_regex\n",
       "0  Android             NUM                   NOUN\n",
       "1   Google             NUM                   NOUN"
      ]
     },
     "metadata": {},
     "output_type": "display_data"
    },
    {
     "name": "stdout",
     "output_type": "stream",
     "text": [
      "\n",
      "For sentence:  Google and Twitter made a deal in 2015 that gave Google access to Twitter's firehose.\n"
     ]
    },
    {
     "data": {
      "text/html": [
       "<div>\n",
       "<style scoped>\n",
       "    .dataframe tbody tr th:only-of-type {\n",
       "        vertical-align: middle;\n",
       "    }\n",
       "\n",
       "    .dataframe tbody tr th {\n",
       "        vertical-align: top;\n",
       "    }\n",
       "\n",
       "    .dataframe thead th {\n",
       "        text-align: right;\n",
       "    }\n",
       "</style>\n",
       "<table border=\"1\" class=\"dataframe\">\n",
       "  <thead>\n",
       "    <tr style=\"text-align: right;\">\n",
       "      <th></th>\n",
       "      <th>word</th>\n",
       "      <th>viterbi_vanilla</th>\n",
       "      <th>viterbi_modified_regex</th>\n",
       "    </tr>\n",
       "  </thead>\n",
       "  <tbody>\n",
       "    <tr>\n",
       "      <td>0</td>\n",
       "      <td>Google</td>\n",
       "      <td>NUM</td>\n",
       "      <td>NOUN</td>\n",
       "    </tr>\n",
       "    <tr>\n",
       "      <td>1</td>\n",
       "      <td>Twitter</td>\n",
       "      <td>NUM</td>\n",
       "      <td>NOUN</td>\n",
       "    </tr>\n",
       "    <tr>\n",
       "      <td>2</td>\n",
       "      <td>Google</td>\n",
       "      <td>NUM</td>\n",
       "      <td>NOUN</td>\n",
       "    </tr>\n",
       "    <tr>\n",
       "      <td>3</td>\n",
       "      <td>Twitter</td>\n",
       "      <td>NUM</td>\n",
       "      <td>NOUN</td>\n",
       "    </tr>\n",
       "    <tr>\n",
       "      <td>4</td>\n",
       "      <td>firehose</td>\n",
       "      <td>NUM</td>\n",
       "      <td>NOUN</td>\n",
       "    </tr>\n",
       "  </tbody>\n",
       "</table>\n",
       "</div>"
      ],
      "text/plain": [
       "       word viterbi_vanilla viterbi_modified_regex\n",
       "0    Google             NUM                   NOUN\n",
       "1   Twitter             NUM                   NOUN\n",
       "2    Google             NUM                   NOUN\n",
       "3   Twitter             NUM                   NOUN\n",
       "4  firehose             NUM                   NOUN"
      ]
     },
     "metadata": {},
     "output_type": "display_data"
    },
    {
     "name": "stdout",
     "output_type": "stream",
     "text": [
      "\n",
      "For sentence:  The 2018 FIFA World Cup is the 21st FIFA World Cup, an international football tournament contested once every four years.\n"
     ]
    },
    {
     "data": {
      "text/html": [
       "<div>\n",
       "<style scoped>\n",
       "    .dataframe tbody tr th:only-of-type {\n",
       "        vertical-align: middle;\n",
       "    }\n",
       "\n",
       "    .dataframe tbody tr th {\n",
       "        vertical-align: top;\n",
       "    }\n",
       "\n",
       "    .dataframe thead th {\n",
       "        text-align: right;\n",
       "    }\n",
       "</style>\n",
       "<table border=\"1\" class=\"dataframe\">\n",
       "  <thead>\n",
       "    <tr style=\"text-align: right;\">\n",
       "      <th></th>\n",
       "      <th>word</th>\n",
       "      <th>viterbi_vanilla</th>\n",
       "      <th>viterbi_modified_regex</th>\n",
       "    </tr>\n",
       "  </thead>\n",
       "  <tbody>\n",
       "    <tr>\n",
       "      <td>0</td>\n",
       "      <td>FIFA</td>\n",
       "      <td>NUM</td>\n",
       "      <td>NOUN</td>\n",
       "    </tr>\n",
       "    <tr>\n",
       "      <td>1</td>\n",
       "      <td>Cup</td>\n",
       "      <td>NUM</td>\n",
       "      <td>NOUN</td>\n",
       "    </tr>\n",
       "    <tr>\n",
       "      <td>2</td>\n",
       "      <td>21st</td>\n",
       "      <td>NUM</td>\n",
       "      <td>NOUN</td>\n",
       "    </tr>\n",
       "    <tr>\n",
       "      <td>3</td>\n",
       "      <td>FIFA</td>\n",
       "      <td>NUM</td>\n",
       "      <td>NOUN</td>\n",
       "    </tr>\n",
       "    <tr>\n",
       "      <td>4</td>\n",
       "      <td>Cup</td>\n",
       "      <td>NUM</td>\n",
       "      <td>NOUN</td>\n",
       "    </tr>\n",
       "    <tr>\n",
       "      <td>5</td>\n",
       "      <td>tournament</td>\n",
       "      <td>NUM</td>\n",
       "      <td>NOUN</td>\n",
       "    </tr>\n",
       "    <tr>\n",
       "      <td>6</td>\n",
       "      <td>contested</td>\n",
       "      <td>NUM</td>\n",
       "      <td>VERB</td>\n",
       "    </tr>\n",
       "  </tbody>\n",
       "</table>\n",
       "</div>"
      ],
      "text/plain": [
       "         word viterbi_vanilla viterbi_modified_regex\n",
       "0        FIFA             NUM                   NOUN\n",
       "1         Cup             NUM                   NOUN\n",
       "2        21st             NUM                   NOUN\n",
       "3        FIFA             NUM                   NOUN\n",
       "4         Cup             NUM                   NOUN\n",
       "5  tournament             NUM                   NOUN\n",
       "6   contested             NUM                   VERB"
      ]
     },
     "metadata": {},
     "output_type": "display_data"
    },
    {
     "name": "stdout",
     "output_type": "stream",
     "text": [
      "\n",
      "For sentence:  NASA invited social media users to experience the launch of ICESAT-2 Satellite.\n"
     ]
    },
    {
     "data": {
      "text/html": [
       "<div>\n",
       "<style scoped>\n",
       "    .dataframe tbody tr th:only-of-type {\n",
       "        vertical-align: middle;\n",
       "    }\n",
       "\n",
       "    .dataframe tbody tr th {\n",
       "        vertical-align: top;\n",
       "    }\n",
       "\n",
       "    .dataframe thead th {\n",
       "        text-align: right;\n",
       "    }\n",
       "</style>\n",
       "<table border=\"1\" class=\"dataframe\">\n",
       "  <thead>\n",
       "    <tr style=\"text-align: right;\">\n",
       "      <th></th>\n",
       "      <th>word</th>\n",
       "      <th>viterbi_vanilla</th>\n",
       "      <th>viterbi_modified_regex</th>\n",
       "    </tr>\n",
       "  </thead>\n",
       "  <tbody>\n",
       "    <tr>\n",
       "      <td>0</td>\n",
       "      <td>NASA</td>\n",
       "      <td>NUM</td>\n",
       "      <td>NOUN</td>\n",
       "    </tr>\n",
       "    <tr>\n",
       "      <td>1</td>\n",
       "      <td>invited</td>\n",
       "      <td>NUM</td>\n",
       "      <td>VERB</td>\n",
       "    </tr>\n",
       "    <tr>\n",
       "      <td>2</td>\n",
       "      <td>ICESAT-2</td>\n",
       "      <td>NUM</td>\n",
       "      <td>NOUN</td>\n",
       "    </tr>\n",
       "    <tr>\n",
       "      <td>3</td>\n",
       "      <td>Satellite</td>\n",
       "      <td>NUM</td>\n",
       "      <td>NOUN</td>\n",
       "    </tr>\n",
       "  </tbody>\n",
       "</table>\n",
       "</div>"
      ],
      "text/plain": [
       "        word viterbi_vanilla viterbi_modified_regex\n",
       "0       NASA             NUM                   NOUN\n",
       "1    invited             NUM                   VERB\n",
       "2   ICESAT-2             NUM                   NOUN\n",
       "3  Satellite             NUM                   NOUN"
      ]
     },
     "metadata": {},
     "output_type": "display_data"
    }
   ],
   "source": [
    "for sentence in sentences:\n",
    "    print(\"\\nFor sentence: \",sentence)\n",
    "    display(compare_tagger(sentence))"
   ]
  },
  {
   "cell_type": "markdown",
   "metadata": {},
   "source": [
    "We can see that words like `Android`, `Google`, `Twitter`, `FIFA`, `contested` etc which were incorrectly tagged by the vanilla Viterbi tagger as `NUM` are correctly tagged by the modified regex tagger."
   ]
  },
  {
   "cell_type": "code",
   "execution_count": null,
   "metadata": {},
   "outputs": [],
   "source": []
  }
 ],
 "metadata": {
  "kernelspec": {
   "display_name": "Python 3.7.4 64-bit ('anaconda3': virtualenv)",
   "language": "python",
   "name": "python37464bitanaconda3virtualenv521642e42a274ac2a27b4f96083d501f"
  },
  "language_info": {
   "codemirror_mode": {
    "name": "ipython",
    "version": 3
   },
   "file_extension": ".py",
   "mimetype": "text/x-python",
   "name": "python",
   "nbconvert_exporter": "python",
   "pygments_lexer": "ipython3",
   "version": "3.7.4"
  }
 },
 "nbformat": 4,
 "nbformat_minor": 2
}
